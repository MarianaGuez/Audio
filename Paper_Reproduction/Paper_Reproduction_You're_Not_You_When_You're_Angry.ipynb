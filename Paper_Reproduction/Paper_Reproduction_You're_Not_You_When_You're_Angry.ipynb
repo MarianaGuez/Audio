{
  "nbformat": 4,
  "nbformat_minor": 0,
  "metadata": {
    "colab": {
      "provenance": []
    },
    "kernelspec": {
      "name": "python3",
      "display_name": "Python 3"
    },
    "language_info": {
      "name": "python"
    }
  },
  "cells": [
    {
      "cell_type": "markdown",
      "source": [
        "This is a step by step guide for the reproduction of the experiments found in the paper of Aldene & Provost.\n",
        "\n",
        "Cite:\n",
        "Z. Aldeneh and E. M. Provost, \"You're Not You When You're Angry: Robust Emotion Features Emerge by Recognizing Speakers\" in IEEE Transactions on Affective Computing, vol. 14, no. 02, pp. 1351-1362, April-June 2023, doi: 10.1109/TAFFC.2021.3086050."
      ],
      "metadata": {
        "id": "EJ6QO-ZIUqe2"
      }
    },
    {
      "cell_type": "markdown",
      "metadata": {
        "id": "5tT_LZuQJLkr"
      },
      "source": [
        "#Libraries to install"
      ]
    },
    {
      "cell_type": "code",
      "execution_count": null,
      "metadata": {
        "colab": {
          "base_uri": "https://localhost:8080/"
        },
        "id": "4FaUyv4ANo14",
        "outputId": "feaacaeb-7aa4-41db-9632-4fcadafbb3ef"
      },
      "outputs": [
        {
          "output_type": "stream",
          "name": "stdout",
          "text": [
            "Collecting speechbrain\n",
            "  Downloading speechbrain-1.0.1-py3-none-any.whl.metadata (24 kB)\n",
            "Collecting hyperpyyaml (from speechbrain)\n",
            "  Downloading HyperPyYAML-1.2.2-py3-none-any.whl.metadata (7.6 kB)\n",
            "Requirement already satisfied: joblib in /usr/local/lib/python3.10/dist-packages (from speechbrain) (1.4.2)\n",
            "Requirement already satisfied: numpy in /usr/local/lib/python3.10/dist-packages (from speechbrain) (1.26.4)\n",
            "Requirement already satisfied: packaging in /usr/local/lib/python3.10/dist-packages (from speechbrain) (24.1)\n",
            "Requirement already satisfied: scipy in /usr/local/lib/python3.10/dist-packages (from speechbrain) (1.13.1)\n",
            "Requirement already satisfied: sentencepiece in /usr/local/lib/python3.10/dist-packages (from speechbrain) (0.2.0)\n",
            "Requirement already satisfied: torch>=1.9 in /usr/local/lib/python3.10/dist-packages (from speechbrain) (2.4.1+cu121)\n",
            "Requirement already satisfied: torchaudio in /usr/local/lib/python3.10/dist-packages (from speechbrain) (2.4.1+cu121)\n",
            "Requirement already satisfied: tqdm in /usr/local/lib/python3.10/dist-packages (from speechbrain) (4.66.5)\n",
            "Requirement already satisfied: huggingface-hub in /usr/local/lib/python3.10/dist-packages (from speechbrain) (0.24.7)\n",
            "Requirement already satisfied: filelock in /usr/local/lib/python3.10/dist-packages (from torch>=1.9->speechbrain) (3.16.1)\n",
            "Requirement already satisfied: typing-extensions>=4.8.0 in /usr/local/lib/python3.10/dist-packages (from torch>=1.9->speechbrain) (4.12.2)\n",
            "Requirement already satisfied: sympy in /usr/local/lib/python3.10/dist-packages (from torch>=1.9->speechbrain) (1.13.3)\n",
            "Requirement already satisfied: networkx in /usr/local/lib/python3.10/dist-packages (from torch>=1.9->speechbrain) (3.4.1)\n",
            "Requirement already satisfied: jinja2 in /usr/local/lib/python3.10/dist-packages (from torch>=1.9->speechbrain) (3.1.4)\n",
            "Requirement already satisfied: fsspec in /usr/local/lib/python3.10/dist-packages (from torch>=1.9->speechbrain) (2024.6.1)\n",
            "Requirement already satisfied: pyyaml>=5.1 in /usr/local/lib/python3.10/dist-packages (from huggingface-hub->speechbrain) (6.0.2)\n",
            "Requirement already satisfied: requests in /usr/local/lib/python3.10/dist-packages (from huggingface-hub->speechbrain) (2.32.3)\n",
            "Collecting ruamel.yaml>=0.17.28 (from hyperpyyaml->speechbrain)\n",
            "  Downloading ruamel.yaml-0.18.6-py3-none-any.whl.metadata (23 kB)\n",
            "Collecting ruamel.yaml.clib>=0.2.7 (from ruamel.yaml>=0.17.28->hyperpyyaml->speechbrain)\n",
            "  Downloading ruamel.yaml.clib-0.2.12-cp310-cp310-manylinux_2_17_x86_64.manylinux2014_x86_64.whl.metadata (2.7 kB)\n",
            "Requirement already satisfied: MarkupSafe>=2.0 in /usr/local/lib/python3.10/dist-packages (from jinja2->torch>=1.9->speechbrain) (3.0.1)\n",
            "Requirement already satisfied: charset-normalizer<4,>=2 in /usr/local/lib/python3.10/dist-packages (from requests->huggingface-hub->speechbrain) (3.4.0)\n",
            "Requirement already satisfied: idna<4,>=2.5 in /usr/local/lib/python3.10/dist-packages (from requests->huggingface-hub->speechbrain) (3.10)\n",
            "Requirement already satisfied: urllib3<3,>=1.21.1 in /usr/local/lib/python3.10/dist-packages (from requests->huggingface-hub->speechbrain) (2.2.3)\n",
            "Requirement already satisfied: certifi>=2017.4.17 in /usr/local/lib/python3.10/dist-packages (from requests->huggingface-hub->speechbrain) (2024.8.30)\n",
            "Requirement already satisfied: mpmath<1.4,>=1.1.0 in /usr/local/lib/python3.10/dist-packages (from sympy->torch>=1.9->speechbrain) (1.3.0)\n",
            "Downloading speechbrain-1.0.1-py3-none-any.whl (807 kB)\n",
            "\u001b[2K   \u001b[90m━━━━━━━━━━━━━━━━━━━━━━━━━━━━━━━━━━━━━━━━\u001b[0m \u001b[32m807.2/807.2 kB\u001b[0m \u001b[31m34.3 MB/s\u001b[0m eta \u001b[36m0:00:00\u001b[0m\n",
            "\u001b[?25hDownloading HyperPyYAML-1.2.2-py3-none-any.whl (16 kB)\n",
            "Downloading ruamel.yaml-0.18.6-py3-none-any.whl (117 kB)\n",
            "\u001b[2K   \u001b[90m━━━━━━━━━━━━━━━━━━━━━━━━━━━━━━━━━━━━━━━━\u001b[0m \u001b[32m117.8/117.8 kB\u001b[0m \u001b[31m9.2 MB/s\u001b[0m eta \u001b[36m0:00:00\u001b[0m\n",
            "\u001b[?25hDownloading ruamel.yaml.clib-0.2.12-cp310-cp310-manylinux_2_17_x86_64.manylinux2014_x86_64.whl (722 kB)\n",
            "\u001b[2K   \u001b[90m━━━━━━━━━━━━━━━━━━━━━━━━━━━━━━━━━━━━━━━━\u001b[0m \u001b[32m722.2/722.2 kB\u001b[0m \u001b[31m27.7 MB/s\u001b[0m eta \u001b[36m0:00:00\u001b[0m\n",
            "\u001b[?25hInstalling collected packages: ruamel.yaml.clib, ruamel.yaml, hyperpyyaml, speechbrain\n",
            "Successfully installed hyperpyyaml-1.2.2 ruamel.yaml-0.18.6 ruamel.yaml.clib-0.2.12 speechbrain-1.0.1\n"
          ]
        }
      ],
      "source": [
        "pip install speechbrain"
      ]
    },
    {
      "cell_type": "code",
      "execution_count": null,
      "metadata": {
        "colab": {
          "base_uri": "https://localhost:8080/"
        },
        "id": "Mkd0Ul_kvmUC",
        "outputId": "8493599f-bfea-464d-8766-e537a6854445"
      },
      "outputs": [
        {
          "name": "stdout",
          "output_type": "stream",
          "text": [
            "Requirement already satisfied: umap-learn in /usr/local/lib/python3.10/dist-packages (0.5.6)\n",
            "Requirement already satisfied: numpy>=1.17 in /usr/local/lib/python3.10/dist-packages (from umap-learn) (1.26.4)\n",
            "Requirement already satisfied: scipy>=1.3.1 in /usr/local/lib/python3.10/dist-packages (from umap-learn) (1.13.1)\n",
            "Requirement already satisfied: scikit-learn>=0.22 in /usr/local/lib/python3.10/dist-packages (from umap-learn) (1.5.2)\n",
            "Requirement already satisfied: numba>=0.51.2 in /usr/local/lib/python3.10/dist-packages (from umap-learn) (0.60.0)\n",
            "Requirement already satisfied: pynndescent>=0.5 in /usr/local/lib/python3.10/dist-packages (from umap-learn) (0.5.13)\n",
            "Requirement already satisfied: tqdm in /usr/local/lib/python3.10/dist-packages (from umap-learn) (4.66.5)\n",
            "Requirement already satisfied: llvmlite<0.44,>=0.43.0dev0 in /usr/local/lib/python3.10/dist-packages (from numba>=0.51.2->umap-learn) (0.43.0)\n",
            "Requirement already satisfied: joblib>=0.11 in /usr/local/lib/python3.10/dist-packages (from pynndescent>=0.5->umap-learn) (1.4.2)\n",
            "Requirement already satisfied: threadpoolctl>=3.1.0 in /usr/local/lib/python3.10/dist-packages (from scikit-learn>=0.22->umap-learn) (3.5.0)\n"
          ]
        }
      ],
      "source": [
        "!pip install umap-learn\n",
        "import umap.umap_ as umap"
      ]
    },
    {
      "cell_type": "markdown",
      "metadata": {
        "id": "ciS762XxQiwT"
      },
      "source": [
        "#Libraries to import"
      ]
    },
    {
      "cell_type": "code",
      "execution_count": 7,
      "metadata": {
        "id": "U3qQar6qQhqT"
      },
      "outputs": [],
      "source": [
        "import os\n",
        "import zipfile\n",
        "import pickle\n",
        "import tarfile\n",
        "import shutil\n",
        "from zipfile import ZipFile\n",
        "import librosa\n",
        "from IPython.display import Audio\n",
        "import speechbrain\n",
        "from speechbrain.inference.speaker import EncoderClassifier\n",
        "from itertools import product\n",
        "\n",
        "import numpy as np\n",
        "import matplotlib.pyplot as plt\n",
        "import pandas as pd\n",
        "\n",
        "from sklearn.preprocessing import StandardScaler, QuantileTransformer\n",
        "from sklearn.decomposition import PCA\n",
        "import umap.umap_ as umap\n",
        "\n",
        "import torch\n",
        "import torchaudio\n",
        "\n",
        "from torch.nn import Sequential, Linear\n",
        "from torch.nn import Sigmoid, Tanh, ReLU, LeakyReLU, Bilinear, MSELoss\n",
        "import torch.nn.functional as F\n",
        "\n",
        "from torch.optim import Adam\n",
        "\n",
        "from torch.utils.data import DataLoader"
      ]
    },
    {
      "cell_type": "markdown",
      "metadata": {
        "id": "hV8_Q2Ee8CzZ"
      },
      "source": [
        "#Get dataset Librispeech"
      ]
    },
    {
      "cell_type": "code",
      "execution_count": 1,
      "metadata": {
        "id": "BWeP4lyTOndo",
        "colab": {
          "base_uri": "https://localhost:8080/"
        },
        "outputId": "f7f1cf7a-7ae8-4905-e7c6-9e323a713c9e"
      },
      "outputs": [
        {
          "output_type": "stream",
          "name": "stdout",
          "text": [
            "Dataset URL: https://www.kaggle.com/datasets/marianarodrguez/emotionaudio-librispeech\n",
            "License(s): unknown\n",
            "Downloading emotionaudio-librispeech.zip to /content\n",
            "100% 10.3G/10.3G [07:36<00:00, 28.7MB/s]\n",
            "100% 10.3G/10.3G [07:36<00:00, 24.3MB/s]\n"
          ]
        }
      ],
      "source": [
        "!kaggle datasets download -d marianarodrguez/emotionaudio-librispeech"
      ]
    },
    {
      "cell_type": "code",
      "execution_count": 4,
      "metadata": {
        "id": "zwkndaIhPlaN"
      },
      "outputs": [],
      "source": [
        "with zipfile.ZipFile('/content/emotionaudio-librispeech.zip', 'r') as zip_ref:\n",
        "        zip_ref.extractall('/content/')"
      ]
    },
    {
      "cell_type": "markdown",
      "metadata": {
        "id": "yXEguj4-Y2Jm"
      },
      "source": [
        "#X-VECTORS OF LIBRISPEECH"
      ]
    },
    {
      "cell_type": "code",
      "execution_count": null,
      "metadata": {
        "id": "mgzyL0Xbq8O2"
      },
      "outputs": [],
      "source": [
        "def Data_to_Index(file, columns, subsest_position, columns_to_drop=['']):\n",
        "  df = pd.read_csv(file, delimiter='\\t')\n",
        "  rows = []\n",
        "  for i in range(len(df)):\n",
        "    rows.append(df.iloc[i][0].split('|'))\n",
        "  df = pd.DataFrame(rows, columns=columns)\n",
        "  my_dataset = []\n",
        "  for i in range(len(rows)):\n",
        "      row = [i.strip() for i in df.iloc[i]]\n",
        "      if row[subsest_position] == 'train-clean-100' or row[subsest_position] == 'dev-clean':\n",
        "        my_dataset.append(row)\n",
        "  my_dataset = pd.DataFrame(my_dataset, columns=columns)\n",
        "  my_dataset.drop(columns=columns_to_drop, inplace=True)\n",
        "  return my_dataset"
      ]
    },
    {
      "cell_type": "code",
      "execution_count": null,
      "metadata": {
        "id": "vXQnWWKjuvtY"
      },
      "outputs": [],
      "source": [
        "filePATH = '/content/train-clean-100/speakers.TXT'\n",
        "columns = ['ID_SPEAKER', 'SEX', 'SUBSET', 'MINUTES', 'NAME']\n",
        "subsest_position = 2\n",
        "columns_to_drop = ['MINUTES','SUBSET']\n",
        "speaker_data = Data_to_Index(filePATH, columns, subsest_position, columns_to_drop)"
      ]
    },
    {
      "cell_type": "code",
      "execution_count": null,
      "metadata": {
        "id": "cnRCUZsVvyBR"
      },
      "outputs": [],
      "source": [
        "filePATH = '/content/train-clean-100/chapters.TXT'\n",
        "columns = ['ID_CHAPTER','ID_SPEAKER','MINUTES', 'SUBSET', 'PROJ', 'ID_BOOK', 'CH TITLE', 'PROJ TITLE']\n",
        "subsest_position = 3\n",
        "columns_to_drop = ['MINUTES','SUBSET','PROJ']\n",
        "chapter_data = Data_to_Index(filePATH, columns, subsest_position, columns_to_drop)"
      ]
    },
    {
      "cell_type": "code",
      "execution_count": null,
      "metadata": {
        "id": "c8TJRv4RjRki"
      },
      "outputs": [],
      "source": [
        "def to_index(data):\n",
        "  indexNo_chapter = chapter_data[chapter_data['ID_SPEAKER'] == data].index\n",
        "  indexNo_speaker = speaker_data[speaker_data['ID_SPEAKER'] == data].index\n",
        "  return indexNo_chapter[0], indexNo_speaker[0]"
      ]
    },
    {
      "cell_type": "markdown",
      "metadata": {
        "id": "DUzi3RUrJCWA"
      },
      "source": [
        ">Dataset X-Vectors"
      ]
    },
    {
      "cell_type": "code",
      "execution_count": null,
      "metadata": {
        "id": "Lv7cwVQfQJj0"
      },
      "outputs": [],
      "source": [
        "def Obtain_x_vectors(folder_path):\n",
        "  y_speaker = []\n",
        "  path = folder_path\n",
        "  classifier = EncoderClassifier.from_hparams(source=\"speechbrain/spkrec-xvect-voxceleb\", savedir=\"pretrained_models/spkrec-xvect-voxceleb\")\n",
        "  dataset_x_vector = []\n",
        "  for folder in sorted(os.listdir(path)):\n",
        "    speakerIndex = to_index(folder)\n",
        "    for folder2 in os.listdir(path + '/' + folder):\n",
        "      for folder3 in os.listdir(path + '/' + folder + '/' + folder2):\n",
        "        if folder3[-5:] == '.flac':\n",
        "          y_speaker.append(speakerIndex)\n",
        "          signal, fs = torchaudio.load(path + '/' + folder + '/' + folder2 + '/' + folder3)\n",
        "          x_vector = classifier.encode_batch(signal).reshape([512])\n",
        "          dataset_x_vector.append(x_vector)\n",
        "\n",
        "  return dataset_x_vector, y_speaker\n"
      ]
    },
    {
      "cell_type": "code",
      "execution_count": null,
      "metadata": {
        "id": "Q7m3fQnucsaC"
      },
      "outputs": [],
      "source": [
        "Valid_Xvectors, y_val = Obtain_x_vectors('/content/dev-clean/dev-clean')\n",
        "Train_Xvectors, y_train = Obtain_x_vectors('/content/train-clean-100/train-clean-100')"
      ]
    },
    {
      "cell_type": "markdown",
      "metadata": {
        "id": "TZUfk-_WsAdS"
      },
      "source": [
        "> (Section not on the paper) Testing x-vectors with umap for its analysis"
      ]
    },
    {
      "cell_type": "code",
      "execution_count": null,
      "metadata": {
        "id": "WRxjO36u7VBp"
      },
      "outputs": [],
      "source": [
        "dicc_sexo = {'M':0,'F':1}\n",
        "dicc_persona = {c: i for i, c in enumerate(speaker_data['NAME'])}\n",
        "dicc_nombre_capitulo = {c: i for i, c in enumerate(chapter_data['CH TITLE'])}"
      ]
    },
    {
      "cell_type": "code",
      "execution_count": null,
      "metadata": {
        "id": "uiKHk4bGrYNJ"
      },
      "outputs": [],
      "source": [
        "persona = []\n",
        "sexo = []\n",
        "nombre_capitulo = []\n",
        "\n",
        "for y in y_Train:\n",
        "  persona.append(dicc_persona[speaker_data['NAME'][y[1]]])\n",
        "  sexo.append(dicc_sexo[speaker_data['SEX'][y[1]]])\n",
        "  nombre_capitulo.append(dicc_nombre_capitulo[chapter_data['CH TITLE'][y[0]]])"
      ]
    },
    {
      "cell_type": "code",
      "execution_count": null,
      "metadata": {
        "id": "_fNRL8cJ1xP9"
      },
      "outputs": [],
      "source": [
        "y_persona = y_Train[:,1]\n",
        "label_persona = list(dicc_persona.keys())\n",
        "\n",
        "y_sexo = sexo\n",
        "label_sexo = list(dicc_sexo.keys())\n",
        "\n",
        "y_nombre_capitulo = nombre_capitulo\n",
        "label_nombre_capitulo = list(dicc_nombre_capitulo.keys())"
      ]
    },
    {
      "cell_type": "code",
      "execution_count": null,
      "metadata": {
        "id": "lFEgexhlLMIF"
      },
      "outputs": [],
      "source": [
        "plotdata = []\n",
        "pca = PCA(n_components=2)\n",
        "pca_plot = pca.fit(Train_Xvectors)\n",
        "plot = pca.transform(Train_Xvectors)"
      ]
    },
    {
      "cell_type": "code",
      "execution_count": null,
      "metadata": {
        "id": "XrLtkjqqwf_P"
      },
      "outputs": [],
      "source": [
        "def plot2d(x,y,labels):\n",
        "  plt.figure(figsize=(5,5))\n",
        "  sc = plt.scatter(x[:,0],x[:,1],c=y)\n",
        "  plt.rcParams['font.family'] = 'sans-serif'\n",
        "  plt.legend(handles=sc.legend_elements()[0], labels=labels)\n",
        "  plt.show"
      ]
    },
    {
      "cell_type": "code",
      "execution_count": null,
      "metadata": {
        "id": "adjdnrpiGyS-"
      },
      "outputs": [],
      "source": [
        "print(Train_Xvectors.shape)\n",
        "len(label_nombre_capitulo)"
      ]
    },
    {
      "cell_type": "code",
      "execution_count": null,
      "metadata": {
        "id": "0N0O6W3IdL0_"
      },
      "outputs": [],
      "source": [
        "plot2d(Train_Xvectors,y_persona,label_persona)"
      ]
    },
    {
      "cell_type": "code",
      "execution_count": null,
      "metadata": {
        "id": "JIO5Vowg-XBX"
      },
      "outputs": [],
      "source": [
        "plot2d(Train_Xvectors,y_sexo,label_sexo)"
      ]
    },
    {
      "cell_type": "code",
      "execution_count": null,
      "metadata": {
        "id": "yfhoGs3q-d0T"
      },
      "outputs": [],
      "source": [
        "plot2d(Train_Xvectors,y_nombre_capitulo,label_nombre_capitulo)"
      ]
    },
    {
      "cell_type": "code",
      "execution_count": null,
      "metadata": {
        "id": "DQAd8-3XwbSr"
      },
      "outputs": [],
      "source": [
        "x_umap2_StadisticsGlottal_CreamD = umap.UMAP(n_neighbors=100,n_components=2,min_dist=0.1,metric='euclidean').fit_transform(Train_Xvectors,y_sexo)\n",
        "plot2d(x_umap2_StadisticsGlottal_CreamD,y_sexo,label_sexo)"
      ]
    },
    {
      "cell_type": "code",
      "execution_count": null,
      "metadata": {
        "id": "SOXx0URzFlew"
      },
      "outputs": [],
      "source": [
        "x_umap2_StadisticsGlottal_CreamD = umap.UMAP(n_neighbors=100,n_components=2,min_dist=0.1,metric='euclidean').fit_transform(Train_Xvectors,y_nombre_capitulo)\n",
        "plot2d(x_umap2_StadisticsGlottal_CreamD,y_nombre_capitulo,label_nombre_capitulo)"
      ]
    },
    {
      "cell_type": "code",
      "execution_count": null,
      "metadata": {
        "id": "sKhQEowUF09R"
      },
      "outputs": [],
      "source": [
        "x_umap2_StadisticsGlottal_CreamD = umap.UMAP(n_neighbors=100,n_components=2,min_dist=0.1,metric='euclidean').fit_transform(Train_Xvectors,y_persona)\n",
        "plot2d(x_umap2_StadisticsGlottal_CreamD,y_persona,label_persona)"
      ]
    },
    {
      "cell_type": "markdown",
      "metadata": {
        "id": "P71HSU7U1jiJ"
      },
      "source": [
        "#GPU"
      ]
    },
    {
      "cell_type": "code",
      "execution_count": null,
      "metadata": {
        "id": "CBD2s0kSXjhc"
      },
      "outputs": [],
      "source": [
        "def get_default_device():\n",
        "    if torch.cuda.is_available():\n",
        "        return torch.device('cuda')\n",
        "    else:\n",
        "        return torch.device('cpu')\n",
        "\n",
        "def to_device(data, device):\n",
        "    if isinstance(data, (list,tuple)):\n",
        "        return [to_device(x, device) for x in data]\n",
        "    return data.to(device, non_blocking=True)\n",
        "\n",
        "class DeviceDataLoader():\n",
        "    def __init__(self, dl, device):\n",
        "        self.dl = dl\n",
        "        self.device = device\n",
        "\n",
        "    def __iter__(self):\n",
        "        for b in self.dl:\n",
        "            yield to_device(b, self.device)\n",
        "\n",
        "    def __len__(self):\n",
        "        return len(self.dl)"
      ]
    },
    {
      "cell_type": "code",
      "execution_count": null,
      "metadata": {
        "id": "qBYIbNAlNWrG"
      },
      "outputs": [],
      "source": [
        "device = get_default_device()"
      ]
    },
    {
      "cell_type": "markdown",
      "metadata": {
        "id": "qV9PZWCrv7bW"
      },
      "source": [
        "#PRE-TRAINING WITH LIBRISPEECH"
      ]
    },
    {
      "cell_type": "code",
      "execution_count": null,
      "metadata": {
        "id": "fXQpKm1oYXrZ"
      },
      "outputs": [],
      "source": [
        "qt = QuantileTransformer(n_quantiles=10, random_state=0)\n",
        "qt_train = qt.fit_transform(np.array(Train_Xvectors))\n",
        "qt_valid = qt.transform(np.array(Valid_Xvectors))"
      ]
    },
    {
      "cell_type": "code",
      "execution_count": null,
      "metadata": {
        "id": "FBBEI0XWYmkE"
      },
      "outputs": [],
      "source": [
        "qt_train = 2 * (qt_train - 0.5)\n",
        "qt_valid = 2 * (qt_valid - 0.5)"
      ]
    },
    {
      "cell_type": "code",
      "execution_count": null,
      "metadata": {
        "id": "M5XzsIk1n1j2"
      },
      "outputs": [],
      "source": [
        "qt_valid.shape"
      ]
    },
    {
      "cell_type": "code",
      "execution_count": null,
      "metadata": {
        "id": "Aw1EO5w1Xjhc"
      },
      "outputs": [],
      "source": [
        "Batch_size = 256"
      ]
    },
    {
      "cell_type": "code",
      "execution_count": null,
      "metadata": {
        "id": "cgsJxOjIXjhc"
      },
      "outputs": [],
      "source": [
        "train_dl = DataLoader(qt_train, batch_size=Batch_size, shuffle=True, num_workers=3, pin_memory=True)\n",
        "valid_dl = DataLoader(qt_valid, batch_size=Batch_size, shuffle=False, num_workers=3, pin_memory=True)"
      ]
    },
    {
      "cell_type": "code",
      "execution_count": null,
      "metadata": {
        "id": "fnbKsSBqXjhd"
      },
      "outputs": [],
      "source": [
        "train_dl = DeviceDataLoader(train_dl, device)\n",
        "valid_dl = DeviceDataLoader(valid_dl, device)"
      ]
    },
    {
      "cell_type": "markdown",
      "metadata": {
        "id": "tiqWmEs8ctTU"
      },
      "source": [
        "#Model"
      ]
    },
    {
      "cell_type": "code",
      "execution_count": null,
      "metadata": {
        "id": "2WttGsTUcz0D"
      },
      "outputs": [],
      "source": [
        "class Base(torch.nn.Module):\n",
        "    def training_step(self, batch):\n",
        "        out = self(batch)\n",
        "        loss = F.mse_loss(out, batch)\n",
        "        return loss, out\n",
        "\n",
        "    def validation_step(self, batch):\n",
        "        out = self(batch)\n",
        "        loss = F.mse_loss(out, batch, reduction='none')\n",
        "        return {'val_loss': loss.detach()}\n",
        "\n",
        "    def validation_epoch_end(self, outputs):\n",
        "        batch_losses = [x['val_loss'] for x in outputs]\n",
        "        epoch_loss = torch.stack(batch_losses).mean()\n",
        "        return {'val_loss': epoch_loss.item()}\n",
        "\n",
        "    def epoch_end(self, epoch, result):\n",
        "        print(\"Epoch [{}], train_loss: {:.4f}, val_loss: {:.4f}\".format(epoch, result['train_loss'], result['val_loss']))\n",
        "        #print(\"Epoch [{}], last_lr: {:.5f}, train_loss: {:.4f}, val_loss: {:.4f}\".format(epoch, result['lrs'][-1], result['train_loss'], result['val_loss']))"
      ]
    },
    {
      "cell_type": "code",
      "execution_count": null,
      "metadata": {
        "id": "AMrLlIHZcz0X"
      },
      "outputs": [],
      "source": [
        "class Modelo(Base):\n",
        "  def __init__(self):\n",
        "    super(Modelo, self).__init__()\n",
        "\n",
        "    self.cod = Sequential(Linear(512, 256),\n",
        "                          Tanh(),\n",
        "                          Linear(256, 128),\n",
        "                          Tanh(),\n",
        "                          Linear(128, 64),\n",
        "                          Tanh(),\n",
        "                          Linear(64, 32),\n",
        "                          Tanh(),\n",
        "                          Linear(32, 16))\n",
        "    self.dec = Sequential(Linear(16, 32),\n",
        "                          Tanh(),\n",
        "                          Linear(32, 64),\n",
        "                          Tanh(),\n",
        "                          Linear(64, 128),\n",
        "                          Tanh(),\n",
        "                          Linear(128, 256),\n",
        "                          Tanh(),\n",
        "                          Linear(256, 512))\n",
        "\n",
        "  def forward(self, x):\n",
        "    z = self.cod(x)\n",
        "    x = self.dec(z)\n",
        "\n",
        "    return x"
      ]
    },
    {
      "cell_type": "code",
      "execution_count": null,
      "metadata": {
        "id": "JB3nA1pYcz0X"
      },
      "outputs": [],
      "source": [
        "model_ac = to_device(Modelo(), device)"
      ]
    },
    {
      "cell_type": "markdown",
      "metadata": {
        "id": "xMu1TSkvH66e"
      },
      "source": [
        "#Trainning code"
      ]
    },
    {
      "cell_type": "code",
      "execution_count": null,
      "metadata": {
        "id": "JI3bqHAwI6rJ"
      },
      "outputs": [],
      "source": [
        "def evaluate(model_ac, val_loader):\n",
        "    model_ac.eval()\n",
        "    outputs = [model_ac.validation_step(batch) for batch in val_loader]\n",
        "    return model_ac.validation_epoch_end(outputs)\n",
        "\n",
        "def evaluation(model_ac, val_loader):\n",
        "    model_ac.eval()\n",
        "    outputs = [model_ac.validation_step(batch) for batch in val_loader]\n",
        "    return [x.mean() for x in outputs[0]['val_loss']]\n",
        "\n",
        "def get_lr(optimizer):\n",
        "    for param_group in optimizer.param_groups:\n",
        "        return param_group['lr']\n",
        "\n",
        "def try_model(epochs, lr, model, train_loader, val_loader, weight_decay=0, grad_clip=None, opt_func=torch.optim.SGD):\n",
        "    history = []\n",
        "    early_stop = [0,0,0,0,0]\n",
        "\n",
        "    optimizer = opt_func(model.parameters(), lr, weight_decay = weight_decay)\n",
        "    prev_val_loss = 1\n",
        "    saved = 1\n",
        "    sched = torch.optim.lr_scheduler.OneCycleLR(optimizer, lr, epochs=epochs, steps_per_epoch=len(train_loader))\n",
        "\n",
        "    for epoch in range(epochs):\n",
        "        model.train()\n",
        "\n",
        "        train_losses = []\n",
        "        input_vector = []\n",
        "        output_vector = []\n",
        "        lrs = []\n",
        "\n",
        "        for batch in train_loader:\n",
        "            optimizer.zero_grad()\n",
        "\n",
        "            loss, out = model.training_step(batch)\n",
        "            train_losses.append(loss)\n",
        "\n",
        "            loss.backward()\n",
        "            if grad_clip:\n",
        "                torch.nn.utils.clip_grad_value_(model.parameters(), grad_clip)\n",
        "\n",
        "            optimizer.step()\n",
        "            lrs.append(get_lr(optimizer))\n",
        "            sched.step()\n",
        "\n",
        "        result = evaluate(model, val_loader)\n",
        "        result['train_loss'] = torch.stack(train_losses).mean().item()\n",
        "\n",
        "        early_stop.insert(epoch % 5, round(result['val_loss'], 4))\n",
        "        early_stop.pop(epoch % 5 + 1)\n",
        "        if epoch == 0:\n",
        "          model.epoch_end(epoch, result)\n",
        "        history.append(result)\n",
        "        if np.mean(early_stop) == round(result['val_loss'],4):\n",
        "          break\n",
        "    return history"
      ]
    },
    {
      "cell_type": "code",
      "execution_count": null,
      "metadata": {
        "id": "GKd33LS8HhFw"
      },
      "outputs": [],
      "source": [
        "epochs = 100\n",
        "max_lr = 1e-3\n",
        "grad_clip = 1e-4\n",
        "weight_decay = 1e-4\n",
        "opt_func = torch.optim.Adam"
      ]
    },
    {
      "cell_type": "markdown",
      "metadata": {
        "id": "PhGGzTJIyfTJ"
      },
      "source": [
        "#Trainning phase"
      ]
    },
    {
      "cell_type": "code",
      "execution_count": null,
      "metadata": {
        "id": "o4HA7iPm2rMI"
      },
      "outputs": [],
      "source": [
        "history = [evaluate(model_ac, train_dl)]\n",
        "history"
      ]
    },
    {
      "cell_type": "code",
      "execution_count": null,
      "metadata": {
        "id": "KUKy1yA02rMI"
      },
      "outputs": [],
      "source": [
        "history += try_model(epochs, max_lr, model_ac, train_dl, valid_dl, weight_decay, grad_clip, opt_func=opt_func)"
      ]
    },
    {
      "cell_type": "code",
      "execution_count": null,
      "metadata": {
        "id": "5djj-BzYgzHR"
      },
      "outputs": [],
      "source": [
        "#We first pre-train the autoencoders using neutral speech from the LibriSpeech corpus\n",
        "torch.save(model_ac.state_dict(), '/content/librispeech_pre_training.pth')"
      ]
    },
    {
      "cell_type": "code",
      "execution_count": null,
      "metadata": {
        "id": "moPkzBWQ2rMJ"
      },
      "outputs": [],
      "source": [
        "def plot_loss(history):\n",
        "    validation = [x['val_loss'] for x in history[1:]]\n",
        "    train = [x['train_loss'] for x in history[1:]]\n",
        "    plt.plot(validation, '-x')\n",
        "    plt.plot(train, '-o')\n",
        "    plt.xlabel('epoch')\n",
        "    plt.ylabel('train loss orange, valid loss blue')\n",
        "    plt.title('validation vs. No. of epochs');"
      ]
    },
    {
      "cell_type": "code",
      "execution_count": null,
      "metadata": {
        "id": "D9Ps-ptV2rMJ"
      },
      "outputs": [],
      "source": [
        "plot_loss(history)"
      ]
    },
    {
      "cell_type": "markdown",
      "metadata": {
        "id": "U7xYmVE8N01F"
      },
      "source": [
        "#Load weights"
      ]
    },
    {
      "cell_type": "code",
      "execution_count": null,
      "metadata": {
        "colab": {
          "base_uri": "https://localhost:8080/"
        },
        "id": "9Mhbs9264tOA",
        "outputId": "4e34dbcd-22e7-4d2e-bb39-9d6e0fbe6ea5"
      },
      "outputs": [
        {
          "output_type": "stream",
          "name": "stdout",
          "text": [
            "Mounted at /content/drive\n"
          ]
        }
      ],
      "source": [
        "from google.colab import drive\n",
        "drive.mount('/content/drive')"
      ]
    },
    {
      "cell_type": "code",
      "execution_count": null,
      "metadata": {
        "id": "sSiu4UlxN_3A",
        "colab": {
          "base_uri": "https://localhost:8080/"
        },
        "outputId": "b65c8a52-25d4-4465-b236-0d37e63f53c8"
      },
      "outputs": [
        {
          "output_type": "stream",
          "name": "stderr",
          "text": [
            "<ipython-input-24-2b8c205a9b80>:1: FutureWarning: You are using `torch.load` with `weights_only=False` (the current default value), which uses the default pickle module implicitly. It is possible to construct malicious pickle data which will execute arbitrary code during unpickling (See https://github.com/pytorch/pytorch/blob/main/SECURITY.md#untrusted-models for more details). In a future release, the default value for `weights_only` will be flipped to `True`. This limits the functions that could be executed during unpickling. Arbitrary objects will no longer be allowed to be loaded via this mode unless they are explicitly allowlisted by the user via `torch.serialization.add_safe_globals`. We recommend you start setting `weights_only=True` for any use case where you don't have full control of the loaded file. Please open an issue on GitHub for any issues related to this experimental feature.\n",
            "  weights = torch.load('/content/drive/MyDrive/LibriSpeech/librispeech_pre_training.pth', map_location=torch.device('cpu'))\n"
          ]
        }
      ],
      "source": [
        "weights = torch.load('/content/librispeech_pre_training.pth', map_location=torch.device('cpu'))"
      ]
    },
    {
      "cell_type": "markdown",
      "metadata": {
        "id": "DrkDkbsVOUQu"
      },
      "source": [
        "#VESUS - Test 1"
      ]
    },
    {
      "cell_type": "markdown",
      "metadata": {
        "id": "VtgVxz7_vV4V"
      },
      "source": [
        "##Xvectors"
      ]
    },
    {
      "cell_type": "markdown",
      "metadata": {
        "id": "WFfBgsiLIQja"
      },
      "source": [
        "We run two separate analyses\n",
        "whenever we use the VESUS dataset: one using the intended\n",
        "(i.e., instructed) emotion labels, and another using utterances\n",
        "that achieved at least 50% consistency among the crowd-\n",
        "sourced annotators (i.e., at least five annotators agreed)."
      ]
    },
    {
      "cell_type": "code",
      "source": [
        "classifier = EncoderClassifier.from_hparams(source=\"speechbrain/spkrec-xvect-voxceleb\", savedir=\"pretrained_models/spkrec-xvect-voxceleb\")\n",
        "signal, _ = torchaudio.load('/content/drive/MyDrive/MuSe/Instru/1002174.mp3')\n",
        "signal = signal[:48000]\n",
        "x_vector = classifier.encode_batch(signal)\n",
        "x_vector.shape"
      ],
      "metadata": {
        "colab": {
          "base_uri": "https://localhost:8080/"
        },
        "id": "jcbZ3CRMiH7j",
        "outputId": "13614efd-bb8d-4213-f7cc-47072c7e29d4"
      },
      "execution_count": null,
      "outputs": [
        {
          "output_type": "execute_result",
          "data": {
            "text/plain": [
              "torch.Size([2, 1, 512])"
            ]
          },
          "metadata": {},
          "execution_count": 15
        }
      ]
    },
    {
      "cell_type": "code",
      "execution_count": null,
      "metadata": {
        "id": "2B1IOC1tcMEX"
      },
      "outputs": [],
      "source": [
        "def Xvectors(path):\n",
        "  classifier = EncoderClassifier.from_hparams(source=\"speechbrain/spkrec-xvect-voxceleb\", savedir=\"pretrained_models/spkrec-xvect-voxceleb\")\n",
        "  folder_audio = '/content/VESUS/VESUS' + path\n",
        "  signal, _ = torchaudio.load(folder_audio)\n",
        "  x_vector = classifier.encode_batch(signal).reshape([512])\n",
        "  return x_vector.numpy()"
      ]
    },
    {
      "cell_type": "code",
      "execution_count": null,
      "metadata": {
        "id": "RjoAs2LTTQYH"
      },
      "outputs": [],
      "source": [
        "csv_file_path = '/content/drive/MyDrive/VESUS/VESUS_Key.csv'\n",
        "df = pd.read_csv(csv_file_path)"
      ]
    },
    {
      "cell_type": "code",
      "execution_count": null,
      "metadata": {
        "id": "GtgN50AqWkYR"
      },
      "outputs": [],
      "source": [
        "emotion_dict = {'Neutral':0,'Angry':1,'Happy':2,'Sad':3,'Fearful':4}"
      ]
    },
    {
      "cell_type": "code",
      "execution_count": null,
      "metadata": {
        "id": "pr9M0axGeC4e"
      },
      "outputs": [],
      "source": [
        "df = df.sample(frac=1).reset_index(drop=True)"
      ]
    },
    {
      "cell_type": "code",
      "execution_count": null,
      "metadata": {
        "id": "H60pEdj_c6YD"
      },
      "outputs": [],
      "source": [
        "dict_percived = {str(i): {emotion: [] for emotion in emotions} for i in range(1, 11)}\n",
        "\n",
        "emotion_dict = {'Neutral':'0','Angry':'1','Happy':'2','Sad':'3','Fearful':'4'}\n",
        "\n",
        "for row in range(len(df)):\n",
        "  actor = df.iloc[row]['Actor Number']\n",
        "  emotion = df.iloc[row]['Instructed Emotion']\n",
        "  if emotion in ['Neutral', 'Happy', 'Sad', 'Angry']:\n",
        "    perceived = df.iloc[row]['Perceived Emotion 0:Neu,Ang,Hap,Sad,4:Fea']\n",
        "    rate = perceived.count(emotion_dict[emotion])\n",
        "    if rate >= 5:\n",
        "      dict_percived[str(actor)][emotion].append(df.iloc[row]['File Path'])"
      ]
    },
    {
      "cell_type": "code",
      "execution_count": null,
      "metadata": {
        "id": "hpDgUIEDgeFf"
      },
      "outputs": [],
      "source": [
        "emotions = ['Neutral', 'Angry', 'Sad', 'Happy']\n",
        "dataset_types = ['train', 'test']\n",
        "\n",
        "dataset_test_1_intended = {str(i): {emotion: {dtype: [] for dtype in dataset_types}for emotion in emotions} for i in range(1, 11)}\n",
        "dataset_test_1_perceived = {str(i): {emotion: {dtype: [] for dtype in dataset_types}for emotion in emotions} for i in range(1, 11)}"
      ]
    },
    {
      "cell_type": "code",
      "execution_count": null,
      "metadata": {
        "id": "8qTjAOKP_XVH"
      },
      "outputs": [],
      "source": [
        "def ends(actor, emotion):\n",
        "  path = '/content/VESUS/VESUS/' + str(actor) + '/' + emotion\n",
        "  lenght = len(os.listdir(path))\n",
        "  end = int(lenght * 0.7)\n",
        "  end_p = int(len(dict_percived[str(actor)][emotion])*0.7)\n",
        "  return end, end_p"
      ]
    },
    {
      "cell_type": "code",
      "execution_count": null,
      "metadata": {
        "id": "Ea9cPGNgi88V"
      },
      "outputs": [],
      "source": [
        "emotions = ['Neutral', 'Angry', 'Sad', 'Happy']\n",
        "emotion_dict = {'Neutral':'0','Angry':'1','Happy':'2','Sad':'3','Fearful':'4'}\n",
        "\n",
        "for row in range(len(df)):\n",
        "  emotion = df.iloc[row]['Instructed Emotion']\n",
        "  if emotion in emotions:\n",
        "    actor_n = df.iloc[row]['Actor Number']\n",
        "    perceived = df.iloc[row]['Perceived Emotion 0:Neu,Ang,Hap,Sad,4:Fea']\n",
        "    path = df.iloc[row]['File Path']\n",
        "\n",
        "    end_train, end_train_p = ends(actor_n, emotion)\n",
        "    part = \"train\"\n",
        "    lenght = len(dataset_test_1_intended[str(actor_n)][emotion][part])\n",
        "    if lenght == end_train:\n",
        "      part = 'test'\n",
        "    x = Xvectors(path)\n",
        "    dataset_test_1_intended[str(actor_n)][emotion][part].append(x)\n",
        "\n",
        "    rate = perceived.count(emotion_dict[emotion])\n",
        "    if rate >= 5:\n",
        "      part = \"train\"\n",
        "      lenght = len(dataset_test_1_perceived[str(actor_n)][emotion][part])\n",
        "      if lenght == end_train_p:\n",
        "        part = 'test'\n",
        "      dataset_test_1_perceived[str(actor_n)][emotion][part].append(x)"
      ]
    },
    {
      "cell_type": "code",
      "execution_count": null,
      "metadata": {
        "id": "7flKoUNqgPI8"
      },
      "outputs": [],
      "source": [
        "with open('/content/dataset_test1_perceived_Actors.pickle', 'wb') as f:\n",
        "    pickle.dump(dataset_test_1_perceived, f)\n",
        "\n",
        "with open('/content/dataset_test1_intended_Actors.pickle', 'wb') as f:\n",
        "    pickle.dump(dataset_test_1_intended, f)"
      ]
    },
    {
      "cell_type": "markdown",
      "metadata": {
        "id": "VK7Lg-dSBrOw"
      },
      "source": [
        "##Reconstruction Error"
      ]
    },
    {
      "cell_type": "code",
      "execution_count": null,
      "metadata": {
        "id": "mRxahtwSQ06A"
      },
      "outputs": [],
      "source": [
        "dataset_test1_intended_history = {'1':{'Neutral': [], 'Angry': [], 'Sad': [], 'Happy': []},\n",
        "                                  '2':{'Neutral': [], 'Angry': [], 'Sad': [], 'Happy': []},\n",
        "                                  '3':{'Neutral': [], 'Angry': [], 'Sad': [], 'Happy': []},\n",
        "                                  '4':{'Neutral': [], 'Angry': [], 'Sad': [], 'Happy': []},\n",
        "                                  '5':{'Neutral': [], 'Angry': [], 'Sad': [], 'Happy': []},\n",
        "                                  '6':{'Neutral': [], 'Angry': [], 'Sad': [], 'Happy': []},\n",
        "                                  '7':{'Neutral': [], 'Angry': [], 'Sad': [], 'Happy': []},\n",
        "                                  '8':{'Neutral': [], 'Angry': [], 'Sad': [], 'Happy': []},\n",
        "                                  '9':{'Neutral': [], 'Angry': [], 'Sad': [], 'Happy': []},\n",
        "                                 '10':{'Neutral': [], 'Angry': [], 'Sad': [], 'Happy': []}}"
      ]
    },
    {
      "cell_type": "code",
      "execution_count": null,
      "metadata": {
        "id": "qAtUSyf0XRLS"
      },
      "outputs": [],
      "source": [
        "dataset_test1_perceived_history = {'1':{'Neutral': [], 'Angry': [], 'Sad': [], 'Happy': []},\n",
        "                                   '2':{'Neutral': [], 'Angry': [], 'Sad': [], 'Happy': []},\n",
        "                                   '3':{'Neutral': [], 'Angry': [], 'Sad': [], 'Happy': []},\n",
        "                                   '4':{'Neutral': [], 'Angry': [], 'Sad': [], 'Happy': []},\n",
        "                                   '5':{'Neutral': [], 'Angry': [], 'Sad': [], 'Happy': []},\n",
        "                                   '6':{'Neutral': [], 'Angry': [], 'Sad': [], 'Happy': []},\n",
        "                                   '7':{'Neutral': [], 'Angry': [], 'Sad': [], 'Happy': []},\n",
        "                                   '8':{'Neutral': [], 'Angry': [], 'Sad': [], 'Happy': []},\n",
        "                                   '9':{'Neutral': [], 'Angry': [], 'Sad': [], 'Happy': []},\n",
        "                                  '10':{'Neutral': [], 'Angry': [], 'Sad': [], 'Happy': []}}"
      ]
    },
    {
      "cell_type": "code",
      "execution_count": null,
      "metadata": {
        "id": "45iuupDoVzCM"
      },
      "outputs": [],
      "source": [
        "with open('/content/dataset_test1_intended_Actors.pickle', 'rb') as f:\n",
        "  test1_Intended = pickle.load(f)\n",
        "with open('/content/dataset_test1_perceived_Actors.pickle', 'rb') as f:\n",
        "  test1_Perceived = pickle.load(f)"
      ]
    },
    {
      "cell_type": "code",
      "execution_count": null,
      "metadata": {
        "id": "ulvs2xWF_uVQ"
      },
      "outputs": [],
      "source": [
        "def normalization(dataset, actor_n, emotion):\n",
        "    qt = QuantileTransformer(n_quantiles=10, random_state=0)\n",
        "    lenght = len(dataset[actor_n][emotion]['test'])\n",
        "    if  lenght == 75:\n",
        "      dataset[actor_n][emotion]['test'].append(dataset[actor_n][emotion]['train'][0])\n",
        "    qt_train = qt.fit_transform(np.array(dataset[actor_n][emotion]['train']))\n",
        "    qt_valid = qt.transform(np.array(dataset[actor_n][emotion]['test']))\n",
        "    qt_train = 2 * (qt_train - 0.5)\n",
        "    qt_valid = 2 * (qt_valid - 0.5)\n",
        "    return qt_train, qt_valid\n",
        "\n",
        "def dataloader_Norm(qt_train, qt_valid):\n",
        "    Batch_size = 256\n",
        "    train_dl = DataLoader(qt_train, batch_size=Batch_size, shuffle=True, num_workers=2, pin_memory=True)\n",
        "    valid_dl = DataLoader(qt_valid, batch_size=Batch_size, shuffle=False, num_workers=2, pin_memory=True)\n",
        "    train_dl = DeviceDataLoader(train_dl, device)\n",
        "    valid_dl = DeviceDataLoader(valid_dl, device)\n",
        "    return train_dl, valid_dl"
      ]
    },
    {
      "cell_type": "code",
      "execution_count": null,
      "metadata": {
        "id": "EeUU_pPI5e0X"
      },
      "outputs": [],
      "source": [
        "emotions = ['Happy','Sad', 'Angry']\n",
        "\n",
        "for actor_n in range(1,11):\n",
        "  model_ac.load_state_dict(weights)\n",
        "  qt_train, qt_valid = normalization(test1_Intended,str(actor_n),'Neutral')\n",
        "  train_dl, valid_dl = dataloader_Norm(qt_train, qt_valid)\n",
        "  history = [evaluate(model_ac, train_dl)]\n",
        "  history += try_model(epochs, max_lr, model_ac, train_dl, valid_dl, weight_decay, grad_clip, opt_func=opt_func)\n",
        "  eval = evaluation(model_ac, valid_dl)\n",
        "  dataset_test1_intended_history[str(actor_n)]['Neutral'].append(eval)\n",
        "\n",
        "  for emotion in emotions:\n",
        "    qt_train, qt_valid = normalization(test1_Intended,str(actor_n),emotion)\n",
        "    train_dl, valid_dl = dataloader_Norm(qt_train, qt_valid)\n",
        "    eval = evaluation(model_ac, valid_dl)\n",
        "    dataset_test1_intended_history[str(actor_n)][emotion].append(eval)\n"
      ]
    },
    {
      "cell_type": "code",
      "execution_count": null,
      "metadata": {
        "colab": {
          "base_uri": "https://localhost:8080/"
        },
        "id": "vSNDbLZMXBFE",
        "outputId": "18c50cf6-fc38-403e-c59e-bbca31b6bdd6"
      },
      "outputs": [
        {
          "name": "stdout",
          "output_type": "stream",
          "text": [
            "Epoch [0], train_loss: 0.2249, val_loss: 0.2236\n",
            "Epoch [0], train_loss: 0.2315, val_loss: 0.2363\n",
            "Epoch [0], train_loss: 0.2307, val_loss: 0.2231\n",
            "Epoch [0], train_loss: 0.2374, val_loss: 0.2423\n",
            "Epoch [0], train_loss: 0.2469, val_loss: 0.2454\n",
            "Epoch [0], train_loss: 0.2230, val_loss: 0.2287\n",
            "Epoch [0], train_loss: 0.2156, val_loss: 0.2110\n",
            "Epoch [0], train_loss: 0.2439, val_loss: 0.2470\n",
            "Epoch [0], train_loss: 0.2282, val_loss: 0.2345\n"
          ]
        },
        {
          "name": "stderr",
          "output_type": "stream",
          "text": [
            "/usr/local/lib/python3.10/dist-packages/sklearn/preprocessing/_data.py:2785: UserWarning: n_quantiles (10) is greater than the total number of samples (6). n_quantiles is set to n_samples.\n",
            "  warnings.warn(\n"
          ]
        },
        {
          "name": "stdout",
          "output_type": "stream",
          "text": [
            "Epoch [0], train_loss: 0.2391, val_loss: 0.2426\n"
          ]
        }
      ],
      "source": [
        "emotions = ['Happy', 'Sad', 'Angry']\n",
        "\n",
        "for actor_n in range(1,11):\n",
        "  model_ac.load_state_dict(weights)\n",
        "  qt_train, qt_valid = normalization(test1_Perceived,str(actor_n),'Neutral')\n",
        "  train_dl, valid_dl = dataloader_Norm(qt_train, qt_valid)\n",
        "  history = [evaluate(model_ac, train_dl)]\n",
        "  history += try_model(epochs, max_lr, model_ac, train_dl, valid_dl, weight_decay, grad_clip, opt_func=opt_func)\n",
        "  eval = evaluation(model_ac, valid_dl)\n",
        "  dataset_test1_perceived_history[str(actor_n)]['Neutral'].append(eval)\n",
        "\n",
        "  for emotion in emotions:\n",
        "    qt_train, qt_valid = normalization(test1_Perceived,str(actor_n),emotion)\n",
        "    train_dl, valid_dl = dataloader_Norm(qt_train, qt_valid)\n",
        "    eval = evaluation(model_ac, valid_dl)\n",
        "    dataset_test1_perceived_history[str(actor_n)][emotion].append(eval)\n"
      ]
    },
    {
      "cell_type": "code",
      "execution_count": null,
      "metadata": {
        "id": "8C-XJzy7g_Lj"
      },
      "outputs": [],
      "source": [
        "with open('/content/dataset_test1_intended_history.pickle', 'wb') as f:\n",
        "  pickle.dump(dataset_test1_intended_history,f)"
      ]
    },
    {
      "cell_type": "code",
      "execution_count": null,
      "metadata": {
        "id": "IqczX7ufjaSl"
      },
      "outputs": [],
      "source": [
        "with open('/content/dataset_test1_perceived_history.pickle', 'wb') as f:\n",
        "  pickle.dump(dataset_test1_perceived_history, f)"
      ]
    },
    {
      "cell_type": "markdown",
      "metadata": {
        "id": "mWke1Weo4FY4"
      },
      "source": [
        "##Graficar"
      ]
    },
    {
      "cell_type": "code",
      "execution_count": null,
      "metadata": {
        "id": "vUWPyBQXb3gQ"
      },
      "outputs": [],
      "source": [
        "perceived_history = dataset_test1_perceived_history"
      ]
    },
    {
      "cell_type": "code",
      "execution_count": null,
      "metadata": {
        "id": "p7QMDRSSabEM"
      },
      "outputs": [],
      "source": [
        "with open('/content/dataset_test1_intended_history.pickle', 'rb') as f:\n",
        "  intended_history = pickle.load(f)\n",
        "with open('/content/dataset_test1_perceived_history.pickle', 'rb') as f:\n",
        "  perceived_history = pickle.load(f)"
      ]
    },
    {
      "cell_type": "code",
      "execution_count": 9,
      "metadata": {
        "id": "Xi8dfw2D_cRt"
      },
      "outputs": [],
      "source": [
        "def datasetEmotions(history, genre):\n",
        "  dictForM = {'Female': [1,6],'Male': [6,11]}\n",
        "  rangeForM = dictForM[genre]\n",
        "  emotions = ['Neutral', 'Angry', 'Happy', 'Sad']\n",
        "\n",
        "  data_per_emotion = []\n",
        "  data_per_actor = []\n",
        "\n",
        "  for emotion in emotions:\n",
        "    for actor_n in range(rangeForM[0],rangeForM[1]):\n",
        "      for RE in history[str(actor_n)][emotion][0]:\n",
        "        data_per_actor.append(RE)\n",
        "    data_per_emotion.append(data_per_actor)\n",
        "    data_per_actor = []\n",
        "  return data_per_emotion"
      ]
    },
    {
      "cell_type": "code",
      "execution_count": 10,
      "metadata": {
        "id": "KMKOciB2PnBM"
      },
      "outputs": [],
      "source": [
        "def dataframe(data_per_emotion):\n",
        "  return pd.DataFrame(np.array(data_per_emotion).T)\n",
        "\n",
        "def dataframe_P(data_per_emotion):\n",
        "  data_per_emotion1 = pd.DataFrame(np.array(data_per_emotion[0]).T)\n",
        "  data_per_emotion2 = pd.DataFrame(np.array(data_per_emotion[1]).T)\n",
        "  data_per_emotion3 = pd.DataFrame(np.array(data_per_emotion[2]).T)\n",
        "  data_per_emotion4 = pd.DataFrame(np.array(data_per_emotion[3]).T)\n",
        "  return pd.concat([data_per_emotion1, data_per_emotion2, data_per_emotion3, data_per_emotion4], axis=1)"
      ]
    },
    {
      "cell_type": "code",
      "execution_count": 11,
      "metadata": {
        "id": "2OvbVF5pzO3s"
      },
      "outputs": [],
      "source": [
        "intended_Female = datasetEmotions(intended_history, 'Female')\n",
        "intended_Male = datasetEmotions(intended_history, 'Male')\n",
        "perceived_Female = datasetEmotions(perceived_history, 'Female')\n",
        "perceived_Male = datasetEmotions(perceived_history, 'Male')"
      ]
    },
    {
      "cell_type": "code",
      "execution_count": 12,
      "metadata": {
        "id": "pU9SzV9AApWc"
      },
      "outputs": [],
      "source": [
        "intended_Female = dataframe(intended_Female)\n",
        "intended_Male = dataframe(intended_Male)\n",
        "perceived_Female = dataframe_P(perceived_Female)\n",
        "perceived_Male = dataframe_P(perceived_Male)"
      ]
    },
    {
      "cell_type": "code",
      "source": [
        "perceived_Female.columns = ['Neutral', 'Angry', 'Happy', 'Sad']\n",
        "perceived_Male.columns = ['Neutral', 'Angry', 'Happy', 'Sad']"
      ],
      "metadata": {
        "id": "JVBOLp92bNCW"
      },
      "execution_count": 13,
      "outputs": []
    },
    {
      "cell_type": "code",
      "source": [
        "columns = ['Neutral', 'Angry', 'Happy', 'Sad']"
      ],
      "metadata": {
        "id": "nvEba00yp_Lr"
      },
      "execution_count": 14,
      "outputs": []
    },
    {
      "cell_type": "code",
      "source": [
        "def plot_box(plotboxes, genre, figu):\n",
        "    # Check if plotboxes is a DataFrame and has the correct structure\n",
        "    if not isinstance(plotboxes, pd.DataFrame):\n",
        "        raise ValueError(\"The input plotboxes must be a pandas DataFrame.\")\n",
        "    if plotboxes.shape[1] < 4:\n",
        "        raise ValueError(\"The DataFrame must have at least 4 columns.\")\n",
        "\n",
        "    # Create the figure and axes\n",
        "    fig, ax = plt.subplots(figsize=(18, 9))\n",
        "\n",
        "    # Create a boxplot for each column of the DataFrame\n",
        "    bp = ax.boxplot(\n",
        "        [plotboxes[col].dropna().values for col in plotboxes.columns],  # Drop NaN values\n",
        "        patch_artist=True,\n",
        "        widths=0.6\n",
        "    )\n",
        "\n",
        "    # Adjust the thickness of the axes\n",
        "    for spine in ax.spines.values():\n",
        "        spine.set_linewidth(2)\n",
        "\n",
        "    # Adjust the thickness of the grid\n",
        "    ax.grid(True, linewidth=2)\n",
        "\n",
        "    # Increase the thickness of the elements of the boxplot\n",
        "    for element in ['boxes', 'whiskers', 'caps', 'medians']:\n",
        "        for line in bp[element]:\n",
        "            line.set_linewidth(2)\n",
        "\n",
        "    # Set the x-ticks to correspond to the number of columns in the DataFrame\n",
        "    ax.set_xticks(np.arange(1, len(plotboxes.columns) + 1))\n",
        "    ax.set_xticklabels(plotboxes.columns, fontsize=25)\n",
        "\n",
        "    # Set labels and title\n",
        "    plt.ylabel('Reconstruction Error', fontsize=30)\n",
        "    plt.title(genre, fontsize=30)\n",
        "    plt.yticks(np.arange(0.05, 0.41, 0.1))\n",
        "\n",
        "    # Save the figure\n",
        "    plt.savefig(f'{figu}.png', format='png', bbox_inches='tight')\n",
        "\n",
        "    # Show the plot\n",
        "    plt.show()\n"
      ],
      "metadata": {
        "id": "o0APJ247Z_YF"
      },
      "execution_count": 16,
      "outputs": []
    },
    {
      "cell_type": "code",
      "source": [
        "plot_box(perceived_Female, 'Female Perceived','FemalePerceived')"
      ],
      "metadata": {
        "colab": {
          "base_uri": "https://localhost:8080/",
          "height": 647
        },
        "id": "hfHBPwYaVnBX",
        "outputId": "3d6db621-1434-4e71-ebbc-938986343a79"
      },
      "execution_count": 17,
      "outputs": [
        {
          "output_type": "display_data",
          "data": {
            "text/plain": [
              "<Figure size 1800x900 with 1 Axes>"
            ],
            "image/png": "[encoded data removed]"
          },
          "metadata": {}
        }
      ]
    },
    {
      "cell_type": "code",
      "execution_count": 18,
      "metadata": {
        "colab": {
          "base_uri": "https://localhost:8080/",
          "height": 647
        },
        "id": "osWQbgv_Aki2",
        "outputId": "b62272fb-ccb1-4ce8-e975-dc27101a3bbc"
      },
      "outputs": [
        {
          "output_type": "display_data",
          "data": {
            "text/plain": [
              "<Figure size 1800x900 with 1 Axes>"
            ],
            "image/png": "[encoded data removed]"
          },
          "metadata": {}
        }
      ],
      "source": [
        "plot_box(perceived_Male, 'Male Perceived', 'Malepercived')"
      ]
    },
    {
      "cell_type": "code",
      "execution_count": 20,
      "metadata": {
        "colab": {
          "base_uri": "https://localhost:8080/",
          "height": 647
        },
        "id": "i361JOJ1AkLA",
        "outputId": "56ea1788-8ec9-421c-b96c-1df8fce554b3"
      },
      "outputs": [
        {
          "output_type": "display_data",
          "data": {
            "text/plain": [
              "<Figure size 1800x900 with 1 Axes>"
            ],
            "image/png": "[encoded data removed]"
          },
          "metadata": {}
        }
      ],
      "source": [
        "plot_box(intended_Female, 'Female Intended', 'femaleperceived')"
      ]
    },
    {
      "cell_type": "code",
      "execution_count": 22,
      "metadata": {
        "colab": {
          "base_uri": "https://localhost:8080/",
          "height": 647
        },
        "id": "vwUs_4JW_JiH",
        "outputId": "4a48b4ff-4970-41e6-d557-33c1fa2c31da"
      },
      "outputs": [
        {
          "output_type": "display_data",
          "data": {
            "text/plain": [
              "<Figure size 1800x900 with 1 Axes>"
            ],
            "image/png": "[encoded data removed]"
          },
          "metadata": {}
        }
      ],
      "source": [
        "plot_box(intended_Male, 'Male Intended', 'maleIntended')"
      ]
    }
  ]
}