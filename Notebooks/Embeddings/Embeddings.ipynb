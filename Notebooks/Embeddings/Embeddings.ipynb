{
  "nbformat": 4,
  "nbformat_minor": 0,
  "metadata": {
    "colab": {
      "provenance": []
    },
    "kernelspec": {
      "name": "python3",
      "display_name": "Python 3"
    },
    "language_info": {
      "name": "python"
    }
  },
  "cells": [
    {
      "cell_type": "code",
      "execution_count": null,
      "metadata": {
        "id": "XfFmL_HI0JUU"
      },
      "outputs": [],
      "source": [
        "pip install speechbrain"
      ]
    },
    {
      "cell_type": "markdown",
      "source": [
        "#X-vectors - LibriSpeech- PreTraining Autoencoders"
      ],
      "metadata": {
        "id": "KtgJHOGq7s1a"
      }
    },
    {
      "cell_type": "markdown",
      "source": [
        "##Get dataset Librispeech"
      ],
      "metadata": {
        "id": "hV8_Q2Ee8CzZ"
      }
    },
    {
      "cell_type": "code",
      "source": [
        "import zipfile\n",
        "import os\n",
        "from google.colab import drive\n",
        "import speechbrain"
      ],
      "metadata": {
        "id": "yhdnyFtZ0R_o"
      },
      "execution_count": null,
      "outputs": []
    },
    {
      "cell_type": "code",
      "source": [
        "drive.mount('/content/drive')"
      ],
      "metadata": {
        "id": "zT01E8c50Xzm"
      },
      "execution_count": null,
      "outputs": []
    },
    {
      "cell_type": "code",
      "source": [
        "!mkdir /content/libriSpeech/\n",
        "!mkdir /content/libriSpeech/val_data\n",
        "!mkdir /content/libriSpeech/train_data"
      ],
      "metadata": {
        "id": "rVxc4noY0YUx"
      },
      "execution_count": null,
      "outputs": []
    },
    {
      "cell_type": "code",
      "source": [
        "with zipfile.ZipFile('/content/drive/MyDrive/LibriSpeech/dev_clean.zip', 'r') as zip_ref:\n",
        "        zip_ref.extractall('/content/libriSpeech/val_data')\n",
        "with zipfile.ZipFile('/content/drive/MyDrive/LibriSpeech/train-clean-100.zip', 'r') as zip_ref:\n",
        "        zip_ref.extractall('/content/libriSpeech/train_data')"
      ],
      "metadata": {
        "id": "HqGWyvcjhFl6"
      },
      "execution_count": null,
      "outputs": []
    },
    {
      "cell_type": "markdown",
      "source": [
        ">Sanity check xVectors"
      ],
      "metadata": {
        "id": "x36t6SXXvDXq"
      }
    },
    {
      "cell_type": "code",
      "source": [
        "!pip install umap-learn\n",
        "import umap.umap_ as umap"
      ],
      "metadata": {
        "colab": {
          "base_uri": "https://localhost:8080/"
        },
        "id": "Mkd0Ul_kvmUC",
        "outputId": "bbd0b047-f104-491b-8799-5d919cf92dcb"
      },
      "execution_count": null,
      "outputs": [
        {
          "output_type": "stream",
          "name": "stdout",
          "text": [
            "Collecting umap-learn\n",
            "  Downloading umap_learn-0.5.6-py3-none-any.whl (85 kB)\n",
            "\u001b[?25l     \u001b[90m━━━━━━━━━━━━━━━━━━━━━━━━━━━━━━━━━━━━━━━━\u001b[0m \u001b[32m0.0/85.7 kB\u001b[0m \u001b[31m?\u001b[0m eta \u001b[36m-:--:--\u001b[0m\r\u001b[2K     \u001b[90m━━━━━━━━━━━━━━━━━━━━━━━━━━━━━━━━━━━━━━━━\u001b[0m \u001b[32m85.7/85.7 kB\u001b[0m \u001b[31m2.4 MB/s\u001b[0m eta \u001b[36m0:00:00\u001b[0m\n",
            "\u001b[?25hRequirement already satisfied: numpy>=1.17 in /usr/local/lib/python3.10/dist-packages (from umap-learn) (1.25.2)\n",
            "Requirement already satisfied: scipy>=1.3.1 in /usr/local/lib/python3.10/dist-packages (from umap-learn) (1.11.4)\n",
            "Requirement already satisfied: scikit-learn>=0.22 in /usr/local/lib/python3.10/dist-packages (from umap-learn) (1.2.2)\n",
            "Requirement already satisfied: numba>=0.51.2 in /usr/local/lib/python3.10/dist-packages (from umap-learn) (0.58.1)\n",
            "Collecting pynndescent>=0.5 (from umap-learn)\n",
            "  Downloading pynndescent-0.5.12-py3-none-any.whl (56 kB)\n",
            "\u001b[?25l     \u001b[90m━━━━━━━━━━━━━━━━━━━━━━━━━━━━━━━━━━━━━━━━\u001b[0m \u001b[32m0.0/56.8 kB\u001b[0m \u001b[31m?\u001b[0m eta \u001b[36m-:--:--\u001b[0m\r\u001b[2K     \u001b[90m━━━━━━━━━━━━━━━━━━━━━━━━━━━━━━━━━━━━━━━━\u001b[0m \u001b[32m56.8/56.8 kB\u001b[0m \u001b[31m5.5 MB/s\u001b[0m eta \u001b[36m0:00:00\u001b[0m\n",
            "\u001b[?25hRequirement already satisfied: tqdm in /usr/local/lib/python3.10/dist-packages (from umap-learn) (4.66.2)\n",
            "Requirement already satisfied: llvmlite<0.42,>=0.41.0dev0 in /usr/local/lib/python3.10/dist-packages (from numba>=0.51.2->umap-learn) (0.41.1)\n",
            "Requirement already satisfied: joblib>=0.11 in /usr/local/lib/python3.10/dist-packages (from pynndescent>=0.5->umap-learn) (1.4.0)\n",
            "Requirement already satisfied: threadpoolctl>=2.0.0 in /usr/local/lib/python3.10/dist-packages (from scikit-learn>=0.22->umap-learn) (3.5.0)\n",
            "Installing collected packages: pynndescent, umap-learn\n",
            "Successfully installed pynndescent-0.5.12 umap-learn-0.5.6\n"
          ]
        }
      ]
    },
    {
      "cell_type": "code",
      "source": [
        "import torch\n",
        "import torchaudio\n",
        "from speechbrain.inference.speaker import EncoderClassifier\n",
        "\n",
        "import os\n",
        "\n",
        "import numpy as np"
      ],
      "metadata": {
        "id": "u0Ny8gzj8pzX"
      },
      "execution_count": null,
      "outputs": []
    },
    {
      "cell_type": "code",
      "source": [
        "folder = '/content/libriSpeech/val_data/1272/128104'\n",
        "for files in os.listdir(folder):\n",
        "  print(folder + '/' + files)"
      ],
      "metadata": {
        "colab": {
          "base_uri": "https://localhost:8080/"
        },
        "id": "HEgQ58vuIg-8",
        "outputId": "c240b083-9c6a-4831-a9dd-be1e2ded44c3"
      },
      "execution_count": null,
      "outputs": [
        {
          "output_type": "stream",
          "name": "stdout",
          "text": [
            "/content/libriSpeech/val_data/1272/128104/1272-128104-0011.flac\n",
            "/content/libriSpeech/val_data/1272/128104/1272-128104-0008.flac\n",
            "/content/libriSpeech/val_data/1272/128104/1272-128104-0001.flac\n",
            "/content/libriSpeech/val_data/1272/128104/1272-128104-0013.flac\n",
            "/content/libriSpeech/val_data/1272/128104/1272-128104-0012.flac\n",
            "/content/libriSpeech/val_data/1272/128104/1272-128104-0005.flac\n",
            "/content/libriSpeech/val_data/1272/128104/1272-128104-0007.flac\n",
            "/content/libriSpeech/val_data/1272/128104/1272-128104-0000.flac\n",
            "/content/libriSpeech/val_data/1272/128104/1272-128104-0006.flac\n",
            "/content/libriSpeech/val_data/1272/128104/1272-128104-0003.flac\n",
            "/content/libriSpeech/val_data/1272/128104/1272-128104-0002.flac\n",
            "/content/libriSpeech/val_data/1272/128104/1272-128104-0010.flac\n",
            "/content/libriSpeech/val_data/1272/128104/1272-128104-0009.flac\n",
            "/content/libriSpeech/val_data/1272/128104/.ipynb_checkpoints\n",
            "/content/libriSpeech/val_data/1272/128104/1272-128104-0014.flac\n",
            "/content/libriSpeech/val_data/1272/128104/1272-128104-0004.flac\n"
          ]
        }
      ]
    },
    {
      "cell_type": "code",
      "source": [
        "folder = '/content/libriSpeech/val_data/1272/128104'\n",
        "classifier = EncoderClassifier.from_hparams(source=\"speechbrain/spkrec-xvect-voxceleb\", savedir=\"pretrained_models/spkrec-xvect-voxceleb\")\n",
        "xVect_Embeds = []\n",
        "for files in os.listdir(folder):\n",
        "  if files[-5:] == '.flac':\n",
        "    signal, fs = torchaudio.load(folder + '/' + files)\n",
        "    embeddings = classifier.encode_batch(signal).reshape([1,512])\n",
        "    xVect_Embeds.append(embeddings)\n"
      ],
      "metadata": {
        "id": "llZ9dOgdHCKn"
      },
      "execution_count": null,
      "outputs": []
    },
    {
      "cell_type": "code",
      "source": [
        "y_xVect_Embeds = np.zeros(len(xVect_Embeds))"
      ],
      "metadata": {
        "id": "gbabEClNJuJk"
      },
      "execution_count": null,
      "outputs": []
    },
    {
      "cell_type": "code",
      "source": [
        "xVect_Embeds = np.array(xVect_Embeds).reshape([15,512])"
      ],
      "metadata": {
        "id": "vN6oyoxJZIfY"
      },
      "execution_count": null,
      "outputs": []
    },
    {
      "cell_type": "code",
      "source": [
        "from sklearn.decomposition import PCA\n",
        "plotdata = []\n",
        "pca = PCA(n_components=2)\n",
        "pca_plot = pca.fit(xVect_Embeds)\n",
        "plot = pca.transform(xVect_Embeds)"
      ],
      "metadata": {
        "id": "lFEgexhlLMIF"
      },
      "execution_count": null,
      "outputs": []
    },
    {
      "cell_type": "code",
      "source": [
        "def plot2d(x,y):\n",
        "  plt.figure(figsize=(5,5))\n",
        "  sc = plt.scatter(x[:,0],x[:,1],c=y)\n",
        "  plt.rcParams['font.family'] = 'sans-serif'\n",
        "  plt.legend(handles=sc.legend_elements()[0], labels=['Neutral'])\n",
        "  plt.show"
      ],
      "metadata": {
        "id": "XrLtkjqqwf_P"
      },
      "execution_count": null,
      "outputs": []
    },
    {
      "cell_type": "code",
      "source": [
        "plot2d(plot,y_xVect_Embeds)"
      ],
      "metadata": {
        "colab": {
          "base_uri": "https://localhost:8080/",
          "height": 445
        },
        "id": "0N0O6W3IdL0_",
        "outputId": "619aafe0-428b-4036-d3d6-c4c09e2d8909"
      },
      "execution_count": null,
      "outputs": [
        {
          "output_type": "display_data",
          "data": {
            "text/plain": [
              "<Figure size 500x500 with 1 Axes>"
            ],
            "image/png": "[encoded data removed]"
          },
          "metadata": {}
        }
      ]
    },
    {
      "cell_type": "code",
      "source": [
        "x_umap2_StadisticsGlottal_CreamD = umap.UMAP(n_neighbors=3,n_components=2,min_dist=0.1,metric='euclidean').fit_transform(aver,y_xVect_Embeds)\n",
        "plot2d(x_umap2_StadisticsGlottal_CreamD,y_xVect_Embeds)"
      ],
      "metadata": {
        "id": "DQAd8-3XwbSr",
        "colab": {
          "base_uri": "https://localhost:8080/",
          "height": 480
        },
        "outputId": "73d20b8d-b897-42f2-9b9b-363eb27a0fb6"
      },
      "execution_count": null,
      "outputs": [
        {
          "output_type": "stream",
          "name": "stderr",
          "text": [
            "/usr/local/lib/python3.10/dist-packages/umap/umap_.py:2437: UserWarning: n_neighbors is larger than the dataset size; truncating to X.shape[0] - 1\n",
            "  warn(\n"
          ]
        },
        {
          "output_type": "display_data",
          "data": {
            "text/plain": [
              "<Figure size 500x500 with 1 Axes>"
            ],
            "image/png": "[encoded data removed]"
          },
          "metadata": {}
        }
      ]
    },
    {
      "cell_type": "markdown",
      "source": [
        "##Create X-vectors Embeddings Dataset"
      ],
      "metadata": {
        "id": "xL9zsDEc8iOv"
      }
    },
    {
      "cell_type": "code",
      "source": [
        "pip install speechbrain"
      ],
      "metadata": {
        "colab": {
          "base_uri": "https://localhost:8080/"
        },
        "id": "tuLQDSke8h9B",
        "outputId": "8ddc055f-dda4-4ed3-b3c5-da518caa1bbf"
      },
      "execution_count": null,
      "outputs": [
        {
          "output_type": "stream",
          "name": "stdout",
          "text": [
            "Collecting speechbrain\n",
            "  Downloading speechbrain-1.0.0-py3-none-any.whl (760 kB)\n",
            "\u001b[2K     \u001b[90m━━━━━━━━━━━━━━━━━━━━━━━━━━━━━━━━━━━━━━━━\u001b[0m \u001b[32m760.1/760.1 kB\u001b[0m \u001b[31m8.2 MB/s\u001b[0m eta \u001b[36m0:00:00\u001b[0m\n",
            "\u001b[?25hCollecting hyperpyyaml (from speechbrain)\n",
            "  Downloading HyperPyYAML-1.2.2-py3-none-any.whl (16 kB)\n",
            "Requirement already satisfied: joblib in /usr/local/lib/python3.10/dist-packages (from speechbrain) (1.4.0)\n",
            "Requirement already satisfied: numpy in /usr/local/lib/python3.10/dist-packages (from speechbrain) (1.25.2)\n",
            "Requirement already satisfied: packaging in /usr/local/lib/python3.10/dist-packages (from speechbrain) (24.0)\n",
            "Requirement already satisfied: scipy in /usr/local/lib/python3.10/dist-packages (from speechbrain) (1.11.4)\n",
            "Requirement already satisfied: sentencepiece in /usr/local/lib/python3.10/dist-packages (from speechbrain) (0.1.99)\n",
            "Requirement already satisfied: torch>=1.9 in /usr/local/lib/python3.10/dist-packages (from speechbrain) (2.2.1+cu121)\n",
            "Requirement already satisfied: torchaudio in /usr/local/lib/python3.10/dist-packages (from speechbrain) (2.2.1+cu121)\n",
            "Requirement already satisfied: tqdm in /usr/local/lib/python3.10/dist-packages (from speechbrain) (4.66.2)\n",
            "Requirement already satisfied: huggingface-hub in /usr/local/lib/python3.10/dist-packages (from speechbrain) (0.20.3)\n",
            "Requirement already satisfied: filelock in /usr/local/lib/python3.10/dist-packages (from torch>=1.9->speechbrain) (3.14.0)\n",
            "Requirement already satisfied: typing-extensions>=4.8.0 in /usr/local/lib/python3.10/dist-packages (from torch>=1.9->speechbrain) (4.11.0)\n",
            "Requirement already satisfied: sympy in /usr/local/lib/python3.10/dist-packages (from torch>=1.9->speechbrain) (1.12)\n",
            "Requirement already satisfied: networkx in /usr/local/lib/python3.10/dist-packages (from torch>=1.9->speechbrain) (3.3)\n",
            "Requirement already satisfied: jinja2 in /usr/local/lib/python3.10/dist-packages (from torch>=1.9->speechbrain) (3.1.3)\n",
            "Requirement already satisfied: fsspec in /usr/local/lib/python3.10/dist-packages (from torch>=1.9->speechbrain) (2023.6.0)\n",
            "Collecting nvidia-cuda-nvrtc-cu12==12.1.105 (from torch>=1.9->speechbrain)\n",
            "  Using cached nvidia_cuda_nvrtc_cu12-12.1.105-py3-none-manylinux1_x86_64.whl (23.7 MB)\n",
            "Collecting nvidia-cuda-runtime-cu12==12.1.105 (from torch>=1.9->speechbrain)\n",
            "  Using cached nvidia_cuda_runtime_cu12-12.1.105-py3-none-manylinux1_x86_64.whl (823 kB)\n",
            "Collecting nvidia-cuda-cupti-cu12==12.1.105 (from torch>=1.9->speechbrain)\n",
            "  Using cached nvidia_cuda_cupti_cu12-12.1.105-py3-none-manylinux1_x86_64.whl (14.1 MB)\n",
            "Collecting nvidia-cudnn-cu12==8.9.2.26 (from torch>=1.9->speechbrain)\n",
            "  Using cached nvidia_cudnn_cu12-8.9.2.26-py3-none-manylinux1_x86_64.whl (731.7 MB)\n",
            "Collecting nvidia-cublas-cu12==12.1.3.1 (from torch>=1.9->speechbrain)\n",
            "  Using cached nvidia_cublas_cu12-12.1.3.1-py3-none-manylinux1_x86_64.whl (410.6 MB)\n",
            "Collecting nvidia-cufft-cu12==11.0.2.54 (from torch>=1.9->speechbrain)\n",
            "  Using cached nvidia_cufft_cu12-11.0.2.54-py3-none-manylinux1_x86_64.whl (121.6 MB)\n",
            "Collecting nvidia-curand-cu12==10.3.2.106 (from torch>=1.9->speechbrain)\n",
            "  Using cached nvidia_curand_cu12-10.3.2.106-py3-none-manylinux1_x86_64.whl (56.5 MB)\n",
            "Collecting nvidia-cusolver-cu12==11.4.5.107 (from torch>=1.9->speechbrain)\n",
            "  Using cached nvidia_cusolver_cu12-11.4.5.107-py3-none-manylinux1_x86_64.whl (124.2 MB)\n",
            "Collecting nvidia-cusparse-cu12==12.1.0.106 (from torch>=1.9->speechbrain)\n",
            "  Using cached nvidia_cusparse_cu12-12.1.0.106-py3-none-manylinux1_x86_64.whl (196.0 MB)\n",
            "Collecting nvidia-nccl-cu12==2.19.3 (from torch>=1.9->speechbrain)\n",
            "  Using cached nvidia_nccl_cu12-2.19.3-py3-none-manylinux1_x86_64.whl (166.0 MB)\n",
            "Collecting nvidia-nvtx-cu12==12.1.105 (from torch>=1.9->speechbrain)\n",
            "  Using cached nvidia_nvtx_cu12-12.1.105-py3-none-manylinux1_x86_64.whl (99 kB)\n",
            "Requirement already satisfied: triton==2.2.0 in /usr/local/lib/python3.10/dist-packages (from torch>=1.9->speechbrain) (2.2.0)\n",
            "Collecting nvidia-nvjitlink-cu12 (from nvidia-cusolver-cu12==11.4.5.107->torch>=1.9->speechbrain)\n",
            "  Using cached nvidia_nvjitlink_cu12-12.4.127-py3-none-manylinux2014_x86_64.whl (21.1 MB)\n",
            "Requirement already satisfied: requests in /usr/local/lib/python3.10/dist-packages (from huggingface-hub->speechbrain) (2.31.0)\n",
            "Requirement already satisfied: pyyaml>=5.1 in /usr/local/lib/python3.10/dist-packages (from huggingface-hub->speechbrain) (6.0.1)\n",
            "Collecting ruamel.yaml>=0.17.28 (from hyperpyyaml->speechbrain)\n",
            "  Downloading ruamel.yaml-0.18.6-py3-none-any.whl (117 kB)\n",
            "\u001b[2K     \u001b[90m━━━━━━━━━━━━━━━━━━━━━━━━━━━━━━━━━━━━━━━━\u001b[0m \u001b[32m117.8/117.8 kB\u001b[0m \u001b[31m13.0 MB/s\u001b[0m eta \u001b[36m0:00:00\u001b[0m\n",
            "\u001b[?25hCollecting ruamel.yaml.clib>=0.2.7 (from ruamel.yaml>=0.17.28->hyperpyyaml->speechbrain)\n",
            "  Downloading ruamel.yaml.clib-0.2.8-cp310-cp310-manylinux_2_17_x86_64.manylinux2014_x86_64.manylinux_2_24_x86_64.whl (526 kB)\n",
            "\u001b[2K     \u001b[90m━━━━━━━━━━━━━━━━━━━━━━━━━━━━━━━━━━━━━━━━\u001b[0m \u001b[32m526.7/526.7 kB\u001b[0m \u001b[31m14.4 MB/s\u001b[0m eta \u001b[36m0:00:00\u001b[0m\n",
            "\u001b[?25hRequirement already satisfied: MarkupSafe>=2.0 in /usr/local/lib/python3.10/dist-packages (from jinja2->torch>=1.9->speechbrain) (2.1.5)\n",
            "Requirement already satisfied: charset-normalizer<4,>=2 in /usr/local/lib/python3.10/dist-packages (from requests->huggingface-hub->speechbrain) (3.3.2)\n",
            "Requirement already satisfied: idna<4,>=2.5 in /usr/local/lib/python3.10/dist-packages (from requests->huggingface-hub->speechbrain) (3.7)\n",
            "Requirement already satisfied: urllib3<3,>=1.21.1 in /usr/local/lib/python3.10/dist-packages (from requests->huggingface-hub->speechbrain) (2.0.7)\n",
            "Requirement already satisfied: certifi>=2017.4.17 in /usr/local/lib/python3.10/dist-packages (from requests->huggingface-hub->speechbrain) (2024.2.2)\n",
            "Requirement already satisfied: mpmath>=0.19 in /usr/local/lib/python3.10/dist-packages (from sympy->torch>=1.9->speechbrain) (1.3.0)\n",
            "Installing collected packages: ruamel.yaml.clib, nvidia-nvtx-cu12, nvidia-nvjitlink-cu12, nvidia-nccl-cu12, nvidia-curand-cu12, nvidia-cufft-cu12, nvidia-cuda-runtime-cu12, nvidia-cuda-nvrtc-cu12, nvidia-cuda-cupti-cu12, nvidia-cublas-cu12, ruamel.yaml, nvidia-cusparse-cu12, nvidia-cudnn-cu12, nvidia-cusolver-cu12, hyperpyyaml, speechbrain\n",
            "Successfully installed hyperpyyaml-1.2.2 nvidia-cublas-cu12-12.1.3.1 nvidia-cuda-cupti-cu12-12.1.105 nvidia-cuda-nvrtc-cu12-12.1.105 nvidia-cuda-runtime-cu12-12.1.105 nvidia-cudnn-cu12-8.9.2.26 nvidia-cufft-cu12-11.0.2.54 nvidia-curand-cu12-10.3.2.106 nvidia-cusolver-cu12-11.4.5.107 nvidia-cusparse-cu12-12.1.0.106 nvidia-nccl-cu12-2.19.3 nvidia-nvjitlink-cu12-12.4.127 nvidia-nvtx-cu12-12.1.105 ruamel.yaml-0.18.6 ruamel.yaml.clib-0.2.8 speechbrain-1.0.0\n"
          ]
        }
      ]
    },
    {
      "cell_type": "code",
      "source": [
        "def Obtain_Embeddings(folder_path):\n",
        "  path = folder_path\n",
        "  classifier = EncoderClassifier.from_hparams(source=\"speechbrain/spkrec-xvect-voxceleb\", savedir=\"pretrained_models/spkrec-xvect-voxceleb\")\n",
        "  ds_Embeds = []\n",
        "  for folder in os.listdir(path):\n",
        "    for folder2 in os.listdir(path + '/' + folder):\n",
        "      for files in os.listdir(path + '/' + folder + '/' + folder2):\n",
        "        if files[-5:] == '.flac':\n",
        "          signal, fs = torchaudio.load(path + '/' + folder + '/' + folder2 + '/' + files)\n",
        "          embeddings = classifier.encode_batch(signal).reshape([1,512])\n",
        "          ds_Embeds.append(embeddings)\n",
        "\n",
        "  return ds_Embeds\n"
      ],
      "metadata": {
        "id": "Lv7cwVQfQJj0"
      },
      "execution_count": null,
      "outputs": []
    },
    {
      "cell_type": "code",
      "source": [
        "embedings_val = Obtain_Embeddings('/content/libriSpeech/val_data')\n",
        "print(len(embedings_val))\n",
        "np.save('/content/drive/MyDrive/LibriSpeech/embedings_val.npy',embedings_val)"
      ],
      "metadata": {
        "colab": {
          "base_uri": "https://localhost:8080/"
        },
        "id": "Q7m3fQnucsaC",
        "outputId": "281a83ef-1076-4113-bb06-1807ef4291d2"
      },
      "execution_count": null,
      "outputs": [
        {
          "output_type": "stream",
          "name": "stdout",
          "text": [
            "2703\n"
          ]
        }
      ]
    },
    {
      "cell_type": "code",
      "source": [
        "train_Embeds_LS = Obtain_Embeddings('/content/libriSpeech/train_data/train-clean-100')"
      ],
      "metadata": {
        "id": "k5gGi62v9LxD"
      },
      "execution_count": null,
      "outputs": []
    },
    {
      "cell_type": "code",
      "source": [
        "np.save('/content/drive/MyDrive/LibriSpeech/embedings_train_LS.npy',train_Embeds_LS)"
      ],
      "metadata": {
        "id": "dMWt3G2kbSoR"
      },
      "execution_count": null,
      "outputs": []
    },
    {
      "cell_type": "markdown",
      "source": [
        "#Autoencoders"
      ],
      "metadata": {
        "id": "YwpDChjW72Th"
      }
    },
    {
      "cell_type": "code",
      "source": [
        "import numpy as np\n",
        "import pandas as pd\n",
        "import matplotlib.pyplot as plt\n",
        "\n",
        "from google.colab import drive\n",
        "\n",
        "from sklearn.datasets import load_wine, load_digits\n",
        "from sklearn.decomposition import PCA\n",
        "from sklearn.preprocessing import StandardScaler\n",
        "from sklearn.metrics import balanced_accuracy_score\n",
        "\n",
        "import torch\n",
        "from torch.nn import Sequential\n",
        "from torch.nn import Linear, Sigmoid, Tanh\n",
        "from torch.optim import Adam\n",
        "import torch.nn.functional as F\n",
        "\n",
        "from torch.utils.data import Dataset, DataLoader"
      ],
      "metadata": {
        "id": "M4Aeq0njrOQz"
      },
      "execution_count": null,
      "outputs": []
    },
    {
      "cell_type": "code",
      "source": [
        "drive.mount('/content/drive')"
      ],
      "metadata": {
        "colab": {
          "base_uri": "https://localhost:8080/"
        },
        "id": "H8lxnc2t-iBu",
        "outputId": "b65e1506-4374-4bbc-ed8e-de14174b943a"
      },
      "execution_count": null,
      "outputs": [
        {
          "output_type": "stream",
          "name": "stdout",
          "text": [
            "Mounted at /content/drive\n"
          ]
        }
      ]
    },
    {
      "cell_type": "code",
      "source": [
        "embeds_ls_train = np.load('/content/drive/MyDrive/LibriSpeech/embedings_train_LS.npy')\n",
        "embeds_ls_val = np.load('/content/drive/MyDrive/LibriSpeech/embedings_val.npy')"
      ],
      "metadata": {
        "id": "GJXl4mJG-fvm"
      },
      "execution_count": null,
      "outputs": []
    },
    {
      "cell_type": "code",
      "source": [],
      "metadata": {
        "id": "qaFCC8Mxu7bT"
      },
      "execution_count": null,
      "outputs": []
    },
    {
      "cell_type": "code",
      "source": [
        "train_dl = DataLoader(embeds_ls_train, 256, shuffle=True, num_workers=3, pin_memory=True)\n",
        "valid_dl = DataLoader(embeds_ls_val, 256, shuffle=True, num_workers=3, pin_memory=True)"
      ],
      "metadata": {
        "colab": {
          "base_uri": "https://localhost:8080/"
        },
        "id": "oJjpi7lEB0_B",
        "outputId": "b6a17000-ad11-472c-d4a7-dec68d4e7d81"
      },
      "execution_count": null,
      "outputs": [
        {
          "output_type": "stream",
          "name": "stderr",
          "text": [
            "/usr/local/lib/python3.10/dist-packages/torch/utils/data/dataloader.py:558: UserWarning: This DataLoader will create 3 worker processes in total. Our suggested max number of worker in current system is 2, which is smaller than what this DataLoader is going to create. Please be aware that excessive worker creation might get DataLoader running slow or even freeze, lower the worker number to avoid potential slowness/freeze if necessary.\n",
            "  warnings.warn(_create_warning_msg(\n"
          ]
        }
      ]
    },
    {
      "cell_type": "code",
      "source": [
        "def get_default_device():\n",
        "    if torch.cuda.is_available():\n",
        "        return torch.device('cuda')\n",
        "    else:\n",
        "        return torch.device('cpu')\n",
        "\n",
        "def to_device(data, device):\n",
        "    if isinstance(data, (list,tuple)):\n",
        "        return [to_device(x, device) for x in data]\n",
        "    return data.to(device, non_blocking=True)\n",
        "\n",
        "class DeviceDataLoader():\n",
        "    def __init__(self, dl, device):\n",
        "        self.dl = dl\n",
        "        self.device = device\n",
        "\n",
        "    def __iter__(self):\n",
        "        for b in self.dl:\n",
        "            yield to_device(b, self.device)\n",
        "\n",
        "    def __len__(self):\n",
        "        return len(self.dl)"
      ],
      "metadata": {
        "id": "nR9RTOrQHOsm"
      },
      "execution_count": null,
      "outputs": []
    },
    {
      "cell_type": "code",
      "source": [
        "device = get_default_device()\n",
        "train_dl = DeviceDataLoader(train_dl, device)\n",
        "valid_dl = DeviceDataLoader(valid_dl, device)"
      ],
      "metadata": {
        "id": "npKxH8jWIHNy"
      },
      "execution_count": null,
      "outputs": []
    },
    {
      "cell_type": "code",
      "source": [
        "class Base(torch.nn.Module):\n",
        "    def training_step(self, batch):\n",
        "        out = self(batch)\n",
        "        loss = F.mse_loss(out, batch)\n",
        "        return loss\n",
        "\n",
        "    def validation_step(self, batch):\n",
        "        out = self(batch)\n",
        "        loss = F.mse_loss(out, batch)\n",
        "        return {'val_loss': loss.detach()}\n",
        "\n",
        "    def validation_epoch_end(self, outputs):\n",
        "        batch_losses = [x['val_loss'] for x in outputs]\n",
        "        epoch_loss = torch.stack(batch_losses).mean()\n",
        "        return {'val_loss': epoch_loss.item()}\n",
        "\n",
        "    def epoch_end(self, epoch, result):\n",
        "        print(\"Epoch [{}], train_loss: {:.4f}, val_loss: {:.4f}\".format(\n",
        "            epoch, result['train_loss'], result['val_loss']))\n",
        "        #print(\"Epoch [{}], last_lr: {:.5f}, train_loss: {:.4f}, val_loss: {:.4f}\".format(epoch, result['lrs'][-1], result['train_loss'], result['val_loss']))"
      ],
      "metadata": {
        "id": "b54gHjlQ91nA"
      },
      "execution_count": null,
      "outputs": []
    },
    {
      "cell_type": "code",
      "source": [
        "class Modelo(Base):\n",
        "  def __init__(self):\n",
        "    super(Modelo, self).__init__()\n",
        "\n",
        "    self.cod = Sequential(Linear(512, 256),\n",
        "                          Tanh(),\n",
        "                          Linear(256, 128),\n",
        "                          Tanh(),\n",
        "                          Linear(128, 64),\n",
        "                          Tanh(),\n",
        "                          Linear(64, 32),\n",
        "                          Tanh(),\n",
        "                          Linear(32, 16))\n",
        "    self.dec = Sequential(Linear(16, 32),\n",
        "                          Tanh(),\n",
        "                          Linear(32, 64),\n",
        "                          Tanh(),\n",
        "                          Linear(64, 128),\n",
        "                          Tanh(),\n",
        "                          Linear(128, 256),\n",
        "                          Tanh(),\n",
        "                          Linear(256, 512))\n",
        "\n",
        "  def forward(self, x):\n",
        "    z = self.cod(x)\n",
        "    x = self.dec(z)\n",
        "\n",
        "    return x"
      ],
      "metadata": {
        "id": "XmuM9zqqnuDS"
      },
      "execution_count": null,
      "outputs": []
    },
    {
      "cell_type": "code",
      "source": [
        "model_ac = to_device(Modelo(), device)"
      ],
      "metadata": {
        "id": "YuK50W-0IxWC"
      },
      "execution_count": null,
      "outputs": []
    },
    {
      "cell_type": "code",
      "source": [
        "@torch.no_grad()\n",
        "def evaluate(model_ac, val_loader):\n",
        "    model_ac.eval()\n",
        "    outputs = [model_ac.validation_step(batch) for batch in val_loader]\n",
        "    return model_ac.validation_epoch_end(outputs)\n",
        "\n",
        "def get_lr(optimizer):\n",
        "    for param_group in optimizer.param_groups:\n",
        "        return param_group['lr']\n",
        "\n",
        "def try_model(epochs, lr, model, train_loader, val_loader, weight_decay=0, grad_clip=None, opt_func=torch.optim.SGD):\n",
        "    torch.cuda.empty_cache()\n",
        "    history = []\n",
        "\n",
        "    optimizer = opt_func(model.parameters(), lr, weight_decay=weight_decay)\n",
        "\n",
        "    #sched = torch.optim.lr_scheduler.OneCycleLR(optimizer, max_lr, epochs=epochs, steps_per_epoch=len(train_loader))\n",
        "\n",
        "    for epoch in range(epochs):\n",
        "\n",
        "        model.train()\n",
        "        train_losses = []\n",
        "        lrs = []\n",
        "\n",
        "        for batch in train_loader:\n",
        "            loss = model.training_step(batch)\n",
        "            train_losses.append(loss)\n",
        "\n",
        "            optimizer.zero_grad()\n",
        "            loss.backward()\n",
        "\n",
        "\n",
        "            if grad_clip:\n",
        "                torch.nn.utils.clip_grad_value_(model.parameters(), grad_clip)\n",
        "\n",
        "            optimizer.step()\n",
        "\n",
        "            #lrs.append(get_lr(optimizer))\n",
        "            #sched.step()\n",
        "\n",
        "        result = evaluate(model, val_loader)\n",
        "        result['train_loss'] = torch.stack(train_losses).mean().item()\n",
        "        #result['lrs'] = lrs\n",
        "        model.epoch_end(epoch, result)\n",
        "        history.append(result)\n",
        "    return history"
      ],
      "metadata": {
        "id": "JI3bqHAwI6rJ"
      },
      "execution_count": null,
      "outputs": []
    },
    {
      "cell_type": "code",
      "source": [
        "epochs = 100\n",
        "lr = 0.001\n",
        "grad_clip = 0.1\n",
        "weight_decay = 1e-5\n",
        "opt_func = torch.optim.Adam"
      ],
      "metadata": {
        "id": "fxURsFCRR55N"
      },
      "execution_count": null,
      "outputs": []
    },
    {
      "cell_type": "code",
      "source": [
        "history = [evaluate(model_ac, train_dl)]\n",
        "history"
      ],
      "metadata": {
        "colab": {
          "base_uri": "https://localhost:8080/"
        },
        "id": "EdJuhsUbSQBa",
        "outputId": "1ef9d112-f7ae-4de5-abf9-791393ccf884"
      },
      "execution_count": null,
      "outputs": [
        {
          "output_type": "stream",
          "name": "stderr",
          "text": [
            "/usr/local/lib/python3.10/dist-packages/torch/utils/data/dataloader.py:558: UserWarning: This DataLoader will create 3 worker processes in total. Our suggested max number of worker in current system is 2, which is smaller than what this DataLoader is going to create. Please be aware that excessive worker creation might get DataLoader running slow or even freeze, lower the worker number to avoid potential slowness/freeze if necessary.\n",
            "  warnings.warn(_create_warning_msg(\n",
            "/usr/lib/python3.10/multiprocessing/popen_fork.py:66: RuntimeWarning: os.fork() was called. os.fork() is incompatible with multithreaded code, and JAX is multithreaded, so this will likely lead to a deadlock.\n",
            "  self.pid = os.fork()\n",
            "/usr/lib/python3.10/multiprocessing/popen_fork.py:66: RuntimeWarning: os.fork() was called. os.fork() is incompatible with multithreaded code, and JAX is multithreaded, so this will likely lead to a deadlock.\n",
            "  self.pid = os.fork()\n"
          ]
        },
        {
          "output_type": "execute_result",
          "data": {
            "text/plain": [
              "[{'val_loss': 200.68450927734375}]"
            ]
          },
          "metadata": {},
          "execution_count": 27
        }
      ]
    },
    {
      "cell_type": "code",
      "source": [
        "history += try_model(epochs, lr, model_ac, train_dl, valid_dl,\n",
        "                             grad_clip=grad_clip,\n",
        "                             weight_decay=weight_decay,\n",
        "                             opt_func=opt_func)"
      ],
      "metadata": {
        "colab": {
          "base_uri": "https://localhost:8080/"
        },
        "id": "-5nqRs-5R5g4",
        "outputId": "85793e61-673e-4189-c3a4-d7299d71d6a3"
      },
      "execution_count": null,
      "outputs": [
        {
          "output_type": "stream",
          "name": "stdout",
          "text": [
            "Epoch [0], train_loss: 64.4232, val_loss: 22.2142\n",
            "Epoch [1], train_loss: 18.7245, val_loss: 20.9309\n",
            "Epoch [2], train_loss: 18.3298, val_loss: 20.8883\n",
            "Epoch [3], train_loss: 18.3611, val_loss: 20.9235\n",
            "Epoch [4], train_loss: 18.3700, val_loss: 20.8895\n",
            "Epoch [5], train_loss: 18.3395, val_loss: 20.8923\n",
            "Epoch [6], train_loss: 18.3393, val_loss: 20.8954\n",
            "Epoch [7], train_loss: 18.3479, val_loss: 20.8794\n",
            "Epoch [8], train_loss: 18.3494, val_loss: 20.9346\n",
            "Epoch [9], train_loss: 18.3491, val_loss: 20.8776\n",
            "Epoch [10], train_loss: 18.3412, val_loss: 20.8673\n",
            "Epoch [11], train_loss: 18.3657, val_loss: 20.8433\n",
            "Epoch [12], train_loss: 25.3635, val_loss: 21.0264\n",
            "Epoch [13], train_loss: 18.3557, val_loss: 20.8866\n",
            "Epoch [14], train_loss: 18.3565, val_loss: 20.8911\n",
            "Epoch [15], train_loss: 18.3451, val_loss: 20.8772\n",
            "Epoch [16], train_loss: 18.3489, val_loss: 20.9076\n",
            "Epoch [17], train_loss: 18.3501, val_loss: 20.9015\n",
            "Epoch [18], train_loss: 18.3413, val_loss: 20.9035\n",
            "Epoch [19], train_loss: 18.3330, val_loss: 20.8594\n",
            "Epoch [20], train_loss: 18.3508, val_loss: 20.9090\n",
            "Epoch [21], train_loss: 18.3600, val_loss: 20.8895\n",
            "Epoch [22], train_loss: 18.3407, val_loss: 20.9938\n",
            "Epoch [23], train_loss: 18.3406, val_loss: 20.9062\n",
            "Epoch [24], train_loss: 18.3640, val_loss: 20.9263\n",
            "Epoch [25], train_loss: 18.3668, val_loss: 20.9417\n",
            "Epoch [26], train_loss: 18.3704, val_loss: 20.9617\n",
            "Epoch [27], train_loss: 18.3392, val_loss: 20.9749\n",
            "Epoch [28], train_loss: 18.3434, val_loss: 20.9227\n",
            "Epoch [29], train_loss: 18.3572, val_loss: 20.9386\n",
            "Epoch [30], train_loss: 18.3546, val_loss: 20.9680\n",
            "Epoch [31], train_loss: 18.3661, val_loss: 20.8570\n",
            "Epoch [32], train_loss: 18.3435, val_loss: 20.8577\n",
            "Epoch [33], train_loss: 18.3699, val_loss: 20.9168\n",
            "Epoch [34], train_loss: 18.3401, val_loss: 20.8332\n",
            "Epoch [35], train_loss: 18.3429, val_loss: 20.9096\n",
            "Epoch [36], train_loss: 18.3462, val_loss: 20.9257\n",
            "Epoch [37], train_loss: 18.3795, val_loss: 20.8333\n",
            "Epoch [38], train_loss: 18.3580, val_loss: 20.9129\n",
            "Epoch [39], train_loss: 18.3463, val_loss: 20.8871\n",
            "Epoch [40], train_loss: 18.3534, val_loss: 20.9322\n",
            "Epoch [41], train_loss: 18.3720, val_loss: 20.9002\n",
            "Epoch [42], train_loss: 18.3285, val_loss: 20.8776\n",
            "Epoch [43], train_loss: 18.3861, val_loss: 21.0179\n",
            "Epoch [44], train_loss: 18.3635, val_loss: 20.9044\n",
            "Epoch [45], train_loss: 18.3665, val_loss: 20.8623\n",
            "Epoch [46], train_loss: 18.3550, val_loss: 20.9264\n",
            "Epoch [47], train_loss: 18.3646, val_loss: 21.0147\n",
            "Epoch [48], train_loss: 18.3346, val_loss: 20.8939\n",
            "Epoch [49], train_loss: 31.5200, val_loss: 35.2485\n",
            "Epoch [50], train_loss: 19.2329, val_loss: 20.9403\n",
            "Epoch [51], train_loss: 18.3332, val_loss: 20.9001\n",
            "Epoch [52], train_loss: 18.3602, val_loss: 20.8988\n",
            "Epoch [53], train_loss: 18.3499, val_loss: 20.9256\n",
            "Epoch [54], train_loss: 18.3629, val_loss: 20.9344\n",
            "Epoch [55], train_loss: 18.3505, val_loss: 20.9628\n",
            "Epoch [56], train_loss: 18.3628, val_loss: 20.8726\n",
            "Epoch [57], train_loss: 18.3310, val_loss: 20.9380\n",
            "Epoch [58], train_loss: 18.3437, val_loss: 20.8659\n",
            "Epoch [59], train_loss: 18.3606, val_loss: 20.8941\n",
            "Epoch [60], train_loss: 18.3397, val_loss: 20.8983\n",
            "Epoch [61], train_loss: 18.3430, val_loss: 20.9638\n",
            "Epoch [62], train_loss: 18.3561, val_loss: 20.9144\n",
            "Epoch [63], train_loss: 18.3487, val_loss: 20.8935\n",
            "Epoch [64], train_loss: 47.4739, val_loss: 512.3356\n",
            "Epoch [65], train_loss: 69.4244, val_loss: 20.8546\n",
            "Epoch [66], train_loss: 18.3422, val_loss: 20.8898\n",
            "Epoch [67], train_loss: 18.3585, val_loss: 20.8194\n",
            "Epoch [68], train_loss: 18.3494, val_loss: 20.8952\n",
            "Epoch [69], train_loss: 18.3558, val_loss: 20.8985\n",
            "Epoch [70], train_loss: 18.3337, val_loss: 20.9350\n",
            "Epoch [71], train_loss: 18.3276, val_loss: 20.9813\n",
            "Epoch [72], train_loss: 18.3394, val_loss: 20.9158\n",
            "Epoch [73], train_loss: 18.3361, val_loss: 20.8825\n",
            "Epoch [74], train_loss: 18.9396, val_loss: 20.8934\n",
            "Epoch [75], train_loss: 18.3347, val_loss: 20.8957\n",
            "Epoch [76], train_loss: 18.3480, val_loss: 20.8941\n",
            "Epoch [77], train_loss: 18.3596, val_loss: 20.9454\n",
            "Epoch [78], train_loss: 18.3465, val_loss: 20.8765\n",
            "Epoch [79], train_loss: 18.3209, val_loss: 20.9059\n",
            "Epoch [80], train_loss: 18.3414, val_loss: 20.8732\n",
            "Epoch [81], train_loss: 18.3377, val_loss: 20.9102\n",
            "Epoch [82], train_loss: 18.3380, val_loss: 20.8635\n",
            "Epoch [83], train_loss: 18.3303, val_loss: 20.9031\n",
            "Epoch [84], train_loss: 18.3527, val_loss: 20.9543\n",
            "Epoch [85], train_loss: 18.3489, val_loss: 20.9982\n",
            "Epoch [86], train_loss: 18.3298, val_loss: 20.8765\n",
            "Epoch [87], train_loss: 18.3410, val_loss: 20.8934\n",
            "Epoch [88], train_loss: 18.3518, val_loss: 20.9304\n",
            "Epoch [89], train_loss: 18.3394, val_loss: 20.8506\n",
            "Epoch [90], train_loss: 18.3779, val_loss: 20.9010\n",
            "Epoch [91], train_loss: 18.3392, val_loss: 20.9137\n",
            "Epoch [92], train_loss: 18.3459, val_loss: 20.8470\n",
            "Epoch [93], train_loss: 18.3457, val_loss: 20.9271\n",
            "Epoch [94], train_loss: 18.3488, val_loss: 20.8874\n",
            "Epoch [95], train_loss: 18.3476, val_loss: 20.8578\n",
            "Epoch [96], train_loss: 18.3376, val_loss: 20.8567\n",
            "Epoch [97], train_loss: 18.3507, val_loss: 20.9099\n",
            "Epoch [98], train_loss: 18.3377, val_loss: 20.8869\n",
            "Epoch [99], train_loss: 18.3271, val_loss: 20.8566\n"
          ]
        }
      ]
    },
    {
      "cell_type": "code",
      "source": [
        "def plot_accuracies(history):\n",
        "    validation = [x['val_loss'] for x in history]\n",
        "    plt.plot(validation, '-x')\n",
        "    plt.xlabel('epoch')\n",
        "    plt.ylabel('val_loss')\n",
        "    plt.title('validation vs. No. of epochs');"
      ],
      "metadata": {
        "id": "6g6PRNruSBKb"
      },
      "execution_count": null,
      "outputs": []
    },
    {
      "cell_type": "code",
      "source": [
        "plot_accuracies(history)"
      ],
      "metadata": {
        "colab": {
          "base_uri": "https://localhost:8080/",
          "height": 472
        },
        "id": "8aofvMCMSB-_",
        "outputId": "4735efea-f049-4c28-f978-1011830ba2f4"
      },
      "execution_count": null,
      "outputs": [
        {
          "output_type": "display_data",
          "data": {
            "text/plain": [
              "<Figure size 640x480 with 1 Axes>"
            ],
            "image/png": "[encoded data removed]"
          },
          "metadata": {}
        }
      ]
    }
  ]
}