{
  "nbformat": 4,
  "nbformat_minor": 0,
  "metadata": {
    "colab": {
      "provenance": []
    },
    "kernelspec": {
      "name": "python3",
      "display_name": "Python 3"
    },
    "language_info": {
      "name": "python"
    }
  },
  "cells": [
    {
      "cell_type": "code",
      "execution_count": null,
      "metadata": {
        "id": "jzunsnyyFN9U"
      },
      "outputs": [],
      "source": [
        "import os\n",
        "import numpy as np\n",
        "import scipy\n",
        "from scipy.io import wavfile\n",
        "import scipy.fftpack as fft\n",
        "from scipy.signal import get_window\n",
        "import IPython.display as ipd\n",
        "import matplotlib.pyplot as plt\n",
        "from scipy.cluster.vq import vq\n",
        "from sklearn.metrics.pairwise import chi2_kernel\n",
        "from sklearn import svm\n",
        "from sklearn.metrics import accuracy_score\n",
        "from sklearn.metrics import confusion_matrix\n",
        "import librosa\n",
        "%matplotlib inline"
      ]
    },
    {
      "cell_type": "code",
      "source": [
        "sample_rate = 44100\n",
        "def normalize_audio(audio):\n",
        "    audio = audio / np.max(np.abs(audio))\n",
        "    return audio\n",
        "\n",
        "def frame_audio(audio, FFT_size=1024, hop_size=11.6, sample_rate=sample_rate):\n",
        "    audio = np.pad(audio, int(FFT_size / 2), mode='reflect')\n",
        "    frame_len = 512#np.round(sample_rate * hop_size / 1000).astype(int)\n",
        "    frame_num = int((len(audio) - FFT_size) / frame_len) + 1\n",
        "    frames = np.zeros((frame_num,FFT_size))\n",
        "    for n in range(frame_num):\n",
        "        frames[n] = audio[n*frame_len:n*frame_len+FFT_size]\n",
        "    return frames\n",
        "\n",
        "def freq_to_mel(freq):\n",
        "    return 2595.0 * np.log10(1.0 + freq / 700.0)\n",
        "\n",
        "def mel_to_freq(mels):\n",
        "    return 700.0 * (10.0**(mels / 2595.0) - 1.0)\n",
        "\n",
        "def get_filter_points(fmin, fmax, mel_filter_num, FFT_size, sample_rate=sample_rate):\n",
        "    fmin_mel = freq_to_mel(fmin)\n",
        "    fmax_mel = freq_to_mel(fmax)\n",
        "    mels = np.linspace(fmin_mel, fmax_mel, num=mel_filter_num+2)\n",
        "    freqs = mel_to_freq(mels)\n",
        "\n",
        "    return np.floor((FFT_size + 1) / sample_rate * freqs).astype(int), freqs\n",
        "def get_filters(filter_points, FFT_size):\n",
        "    filters = np.zeros((len(filter_points)-2,int(FFT_size/2+1)))\n",
        "    for n in range(len(filter_points)-2):\n",
        "        filters[n, filter_points[n] : filter_points[n + 1]] = np.linspace(0, 1, filter_points[n + 1] - filter_points[n])\n",
        "        filters[n, filter_points[n + 1] : filter_points[n + 2]] = np.linspace(1, 0, filter_points[n + 2] - filter_points[n + 1])\n",
        "\n",
        "    return filters\n",
        "def dct(dct_filter_num, filter_len):\n",
        "    basis = np.empty((dct_filter_num,filter_len))\n",
        "    basis[0, :] = 1.0 / np.sqrt(filter_len)\n",
        "    samples = np.arange(1, 2 * filter_len, 2) * np.pi / (2.0 * filter_len)\n",
        "    for i in range(1, dct_filter_num):\n",
        "        basis[i, :] = np.cos(i * samples) * np.sqrt(2.0 / filter_len)\n",
        "    return basis\n",
        "def normalizar_array(array):\n",
        "    min_val = np.min(array)\n",
        "    max_val = np.max(array)\n",
        "    normalized_array = np.interp(array, (min_val, max_val), (0.001, 1.0))\n",
        "    return normalized_array\n",
        ""
      ],
      "metadata": {
        "id": "_QdeZi6iFb-s"
      },
      "execution_count": null,
      "outputs": []
    },
    {
      "cell_type": "code",
      "source": [
        "######################### CARACTERÍSTICAS DE LOS AUDIOS TEST ################################3\n",
        "def caracteristicas(di):\n",
        "  hop_size = 11.6\n",
        "  FFT_size = 1024\n",
        "  freq_min = 0\n",
        "  mel_filter_num = 36\n",
        "  dct_filter_num = 21\n",
        "\n",
        "  s = 2\n",
        "  y_test = []\n",
        "  diccionario = {'dream':0, 'energetic':1, 'happy':2, 'sad':3}\n",
        "  directoryFirst = di\n",
        "  elementos_directorio = os.listdir(directoryFirst)\n",
        "  data = np.zeros((2584,20))\n",
        "  for a, folder_place in enumerate(elementos_directorio):\n",
        "    directorio = os.path.join(directoryFirst, folder_place)\n",
        "    datos = os.listdir(directorio)\n",
        "    for m, files in enumerate(datos):\n",
        "      directorioMusic = os.path.join(directorio,files)\n",
        "      audio, sample_rate = librosa.load(directorioMusic)\n",
        "      freq_high = sample_rate / 2\n",
        "      audio = normalize_audio(audio)\n",
        "      audio_framed = frame_audio(audio, FFT_size=FFT_size, hop_size=hop_size, sample_rate=sample_rate)\n",
        "      window = get_window(\"hann\", FFT_size, fftbins=True)\n",
        "      audio_win = audio_framed * window\n",
        "      audio_winT = np.transpose(audio_win)\n",
        "      audio_fft = np.empty((int(1 + FFT_size // 2), audio_winT.shape[1]), dtype=np.complex64, order='F')\n",
        "      for n in range(audio_fft.shape[1]):\n",
        "          audio_fft[:, n] = fft.fft(audio_winT[:, n], axis=0)[:audio_fft.shape[0]]\n",
        "      audio_fft = np.transpose(audio_fft)\n",
        "      filter_points, mel_freqs = get_filter_points(freq_min, freq_high, mel_filter_num, FFT_size, sample_rate=sample_rate)\n",
        "      filters = get_filters(filter_points, FFT_size)\n",
        "      enorm = 2.0 / (mel_freqs[2:mel_filter_num+2] - mel_freqs[:mel_filter_num])\n",
        "      filters *= enorm[:, np.newaxis]\n",
        "      audio_power = np.square(np.abs(audio_fft))\n",
        "      audio_filtered = np.dot(filters, np.transpose(audio_power))\n",
        "      audio_filtered[audio_filtered == 0] = np.nextafter(0, 1)\n",
        "      audio_log = 10.0 * np.log10(audio_filtered)\n",
        "      dct_filters = dct(dct_filter_num, mel_filter_num)\n",
        "      cepstral_coefficents = np.dot(dct_filters, audio_log)\n",
        "      cepstral_coefficents = np.transpose(cepstral_coefficents[1:, :])\n",
        "      data = np.vstack((data,cepstral_coefficents[:1292,:]))\n",
        "      y_test.append(diccionario[files.split('_')[0]])\n",
        "\n",
        "      #CARACTERÏSTICA: TEMPOGRAMA\n",
        "      hop_length = 512\n",
        "      oenv = librosa.onset.onset_strength(y=audio, sr=sample_rate, hop_length=hop_length)\n",
        "      ac_tempogram = librosa.feature.tempogram(onset_envelope=oenv, sr=sample_rate, hop_length=hop_length, norm=None)\n",
        "      ac_tempogramT = abs(np.transpose(ac_tempogram))\n",
        "      data = np.vstack((data,ac_tempogramT[:1292,:20]))\n",
        "  am = data[2584:,:]\n",
        "  y_test = np.array(y_test)\n",
        "  return am, y_test"
      ],
      "metadata": {
        "id": "Yz6gDFkjFiht"
      },
      "execution_count": null,
      "outputs": []
    },
    {
      "cell_type": "code",
      "source": [
        "from google.colab import drive\n",
        "drive.mount('/content/drive')"
      ],
      "metadata": {
        "colab": {
          "base_uri": "https://localhost:8080/"
        },
        "id": "vVRY2lIUySsf",
        "outputId": "323ef3a1-e449-48a1-89bb-439a2a70f329"
      },
      "execution_count": null,
      "outputs": [
        {
          "output_type": "stream",
          "name": "stdout",
          "text": [
            "Mounted at /content/drive\n"
          ]
        }
      ]
    },
    {
      "cell_type": "code",
      "source": [
        "directorioTe = '/content/drive/MyDrive/AudioDS/4_clases/Proyecto_data/Test'\n",
        "directorioTr = '/content/drive/MyDrive/AudioDS/4_clases/Proyecto_data/Train'\n",
        "dataTe, y_test = caracteristicas(directorioTe)\n",
        "dataTr, y_train = caracteristicas(directorioTr)"
      ],
      "metadata": {
        "id": "_hCRiyXHF5Zo"
      },
      "execution_count": null,
      "outputs": []
    },
    {
      "cell_type": "code",
      "source": [
        "datasetTr = normalizar_array(dataTr)\n",
        "datasetTe = normalizar_array(dataTe)"
      ],
      "metadata": {
        "id": "Qin2TkUUGG2j"
      },
      "execution_count": null,
      "outputs": []
    },
    {
      "cell_type": "code",
      "source": [
        "class KMedias:\n",
        "  def __init__(self, n_grupos, n_iter=10):\n",
        "    self.n_grupos = n_grupos\n",
        "    self.n_iter = n_iter\n",
        "\n",
        "  def asigna_puntos_a_centroides(self, X):\n",
        "    grupos = np.zeros(X.shape[0])\n",
        "    dists = np.zeros(X.shape[0])\n",
        "    for i,p in enumerate(X):\n",
        "      grupos[i] = np.linalg.norm(self.centroides - p, axis = 1).argmin()\n",
        "      dists[i] = np.linalg.norm(self.centroides - p, axis = 1).min()\n",
        "    return grupos, dists\n",
        "\n",
        "  def recalcula_centroides(self, X):\n",
        "    for i in range(self.n_grupos):\n",
        "      if(np.any(np.where(self.grupos == i))):\n",
        "        self.centroides[i,:] = X[np.where(self.grupos == i), :].mean(axis = 1)\n",
        "\n",
        "\n",
        "  def fit(self, X, grafica=None):\n",
        "    self.centroides = np.zeros((self.n_grupos, X.shape[1]))\n",
        "\n",
        "    ## Inicializa centroides con puntos del conjunto elegidos aleatoriamente\n",
        "    permutacion = np.random.permutation(X.shape[0])\n",
        "    self.centroides[:, :] = X[permutacion[:self.n_grupos], :]\n",
        "\n",
        "    es = np.zeros(self.n_iter + 1)\n",
        "    for it in range(self.n_iter):\n",
        "      self.grupos, dists = self.asigna_puntos_a_centroides(X)\n",
        "      es[it] = np.mean(dists**2)\n",
        "      self.recalcula_centroides(X)\n",
        "\n",
        "    self.grupos, dists = self.asigna_puntos_a_centroides(X)\n",
        "    es[-1] = np.mean(dists**2)\n",
        "    print(es)\n",
        "    return self.centroides"
      ],
      "metadata": {
        "id": "w6vZttNzGJ6A"
      },
      "execution_count": null,
      "outputs": []
    },
    {
      "cell_type": "code",
      "source": [
        "mbkm_places = KMedias(n_grupos=7000)\n",
        "centroides = mbkm_places.fit(datasetTr)"
      ],
      "metadata": {
        "id": "Bn_zAF6ZGNu4",
        "colab": {
          "base_uri": "https://localhost:8080/"
        },
        "outputId": "e76bf0cd-d42e-4884-f00d-5415030e81df"
      },
      "execution_count": null,
      "outputs": [
        {
          "output_type": "stream",
          "name": "stdout",
          "text": [
            "[2.24182866e-05 1.23971956e-05 1.06818292e-05 9.86320003e-06\n",
            " 9.39653216e-06 9.30474081e-06 9.22146907e-06 9.12767577e-06\n",
            " 9.04572359e-06 9.03729267e-06 9.03236061e-06]\n"
          ]
        }
      ]
    },
    {
      "cell_type": "code",
      "source": [
        "def histograma(y,X):\n",
        "  data = []\n",
        "  av = 0\n",
        "  for i in range(len(y)):\n",
        "    im_featuresTr = np.zeros(centroides.shape[0])\n",
        "    for j in range(2584):\n",
        "      words,_ = vq(X[av][np.newaxis,:],centroides)#abs(np.sum((X[av] / centroides) - np.log(centroides / X[av])-1,axis=1)).argmin() #\n",
        "      im_featuresTr[words[0]] += 1\n",
        "      av += 1\n",
        "    data.append(im_featuresTr)\n",
        "  return np.array(data)"
      ],
      "metadata": {
        "id": "CjukUP4qGSdB"
      },
      "execution_count": null,
      "outputs": []
    },
    {
      "cell_type": "code",
      "source": [
        "histTr = histograma(y_train,datasetTr)\n",
        "histTe = histograma(y_test,datasetTe)"
      ],
      "metadata": {
        "id": "YsHUyW1MGWzU"
      },
      "execution_count": null,
      "outputs": []
    },
    {
      "cell_type": "code",
      "source": [
        "X_train = normalizar_array(histTr)\n",
        "X_test = normalizar_array(histTe)"
      ],
      "metadata": {
        "id": "whRkn_WtGZT1"
      },
      "execution_count": null,
      "outputs": []
    },
    {
      "cell_type": "code",
      "source": [
        "np.save(\"/content/drive/MyDrive/AudioDS/4_clases/Proyecto_data/X_train.npy\", X_train)\n",
        "np.save(\"/content/drive/MyDrive/AudioDS/4_clases/Proyecto_data/X_test.npy\", X_test)\n",
        "np.save(\"/content/drive/MyDrive/AudioDS/4_clases/Proyecto_data/y_train.npy\", y_train)\n",
        "np.save(\"/content/drive/MyDrive/AudioDS/4_clases/Proyecto_data/y_test.npy\", y_test)"
      ],
      "metadata": {
        "id": "et9wnNlb7VAk"
      },
      "execution_count": null,
      "outputs": []
    },
    {
      "cell_type": "code",
      "source": [
        "clf = svm.SVC(kernel = chi2_kernel, C=4)\n",
        "clf.fit(X_train,y_train)"
      ],
      "metadata": {
        "id": "Q9aA9c2jGbti",
        "colab": {
          "base_uri": "https://localhost:8080/",
          "height": 75
        },
        "outputId": "307ef914-d832-48ac-cd68-b3b480341e27"
      },
      "execution_count": null,
      "outputs": [
        {
          "output_type": "execute_result",
          "data": {
            "text/plain": [
              "SVC(C=4, kernel=<function chi2_kernel at 0x7facfc3ac940>)"
            ],
            "text/html": [
              "<style>#sk-container-id-1 {color: black;background-color: white;}#sk-container-id-1 pre{padding: 0;}#sk-container-id-1 div.sk-toggleable {background-color: white;}#sk-container-id-1 label.sk-toggleable__label {cursor: pointer;display: block;width: 100%;margin-bottom: 0;padding: 0.3em;box-sizing: border-box;text-align: center;}#sk-container-id-1 label.sk-toggleable__label-arrow:before {content: \"▸\";float: left;margin-right: 0.25em;color: #696969;}#sk-container-id-1 label.sk-toggleable__label-arrow:hover:before {color: black;}#sk-container-id-1 div.sk-estimator:hover label.sk-toggleable__label-arrow:before {color: black;}#sk-container-id-1 div.sk-toggleable__content {max-height: 0;max-width: 0;overflow: hidden;text-align: left;background-color: #f0f8ff;}#sk-container-id-1 div.sk-toggleable__content pre {margin: 0.2em;color: black;border-radius: 0.25em;background-color: #f0f8ff;}#sk-container-id-1 input.sk-toggleable__control:checked~div.sk-toggleable__content {max-height: 200px;max-width: 100%;overflow: auto;}#sk-container-id-1 input.sk-toggleable__control:checked~label.sk-toggleable__label-arrow:before {content: \"▾\";}#sk-container-id-1 div.sk-estimator input.sk-toggleable__control:checked~label.sk-toggleable__label {background-color: #d4ebff;}#sk-container-id-1 div.sk-label input.sk-toggleable__control:checked~label.sk-toggleable__label {background-color: #d4ebff;}#sk-container-id-1 input.sk-hidden--visually {border: 0;clip: rect(1px 1px 1px 1px);clip: rect(1px, 1px, 1px, 1px);height: 1px;margin: -1px;overflow: hidden;padding: 0;position: absolute;width: 1px;}#sk-container-id-1 div.sk-estimator {font-family: monospace;background-color: #f0f8ff;border: 1px dotted black;border-radius: 0.25em;box-sizing: border-box;margin-bottom: 0.5em;}#sk-container-id-1 div.sk-estimator:hover {background-color: #d4ebff;}#sk-container-id-1 div.sk-parallel-item::after {content: \"\";width: 100%;border-bottom: 1px solid gray;flex-grow: 1;}#sk-container-id-1 div.sk-label:hover label.sk-toggleable__label {background-color: #d4ebff;}#sk-container-id-1 div.sk-serial::before {content: \"\";position: absolute;border-left: 1px solid gray;box-sizing: border-box;top: 0;bottom: 0;left: 50%;z-index: 0;}#sk-container-id-1 div.sk-serial {display: flex;flex-direction: column;align-items: center;background-color: white;padding-right: 0.2em;padding-left: 0.2em;position: relative;}#sk-container-id-1 div.sk-item {position: relative;z-index: 1;}#sk-container-id-1 div.sk-parallel {display: flex;align-items: stretch;justify-content: center;background-color: white;position: relative;}#sk-container-id-1 div.sk-item::before, #sk-container-id-1 div.sk-parallel-item::before {content: \"\";position: absolute;border-left: 1px solid gray;box-sizing: border-box;top: 0;bottom: 0;left: 50%;z-index: -1;}#sk-container-id-1 div.sk-parallel-item {display: flex;flex-direction: column;z-index: 1;position: relative;background-color: white;}#sk-container-id-1 div.sk-parallel-item:first-child::after {align-self: flex-end;width: 50%;}#sk-container-id-1 div.sk-parallel-item:last-child::after {align-self: flex-start;width: 50%;}#sk-container-id-1 div.sk-parallel-item:only-child::after {width: 0;}#sk-container-id-1 div.sk-dashed-wrapped {border: 1px dashed gray;margin: 0 0.4em 0.5em 0.4em;box-sizing: border-box;padding-bottom: 0.4em;background-color: white;}#sk-container-id-1 div.sk-label label {font-family: monospace;font-weight: bold;display: inline-block;line-height: 1.2em;}#sk-container-id-1 div.sk-label-container {text-align: center;}#sk-container-id-1 div.sk-container {/* jupyter's `normalize.less` sets `[hidden] { display: none; }` but bootstrap.min.css set `[hidden] { display: none !important; }` so we also need the `!important` here to be able to override the default hidden behavior on the sphinx rendered scikit-learn.org. See: https://github.com/scikit-learn/scikit-learn/issues/21755 */display: inline-block !important;position: relative;}#sk-container-id-1 div.sk-text-repr-fallback {display: none;}</style><div id=\"sk-container-id-1\" class=\"sk-top-container\"><div class=\"sk-text-repr-fallback\"><pre>SVC(C=4, kernel=&lt;function chi2_kernel at 0x7facfc3ac940&gt;)</pre><b>In a Jupyter environment, please rerun this cell to show the HTML representation or trust the notebook. <br />On GitHub, the HTML representation is unable to render, please try loading this page with nbviewer.org.</b></div><div class=\"sk-container\" hidden><div class=\"sk-item\"><div class=\"sk-estimator sk-toggleable\"><input class=\"sk-toggleable__control sk-hidden--visually\" id=\"sk-estimator-id-1\" type=\"checkbox\" checked><label for=\"sk-estimator-id-1\" class=\"sk-toggleable__label sk-toggleable__label-arrow\">SVC</label><div class=\"sk-toggleable__content\"><pre>SVC(C=4, kernel=&lt;function chi2_kernel at 0x7facfc3ac940&gt;)</pre></div></div></div></div></div>"
            ]
          },
          "metadata": {},
          "execution_count": 12
        }
      ]
    },
    {
      "cell_type": "code",
      "source": [
        "y_pred = clf.predict(X_test)\n",
        "accuracy = accuracy_score(y_test, y_pred)\n",
        "print(\"Accuracy:\", accuracy)"
      ],
      "metadata": {
        "id": "ckiKjUdYGeBK",
        "colab": {
          "base_uri": "https://localhost:8080/"
        },
        "outputId": "5a86e821-5364-472c-f5dd-48ad87cb197e"
      },
      "execution_count": null,
      "outputs": [
        {
          "output_type": "stream",
          "name": "stdout",
          "text": [
            "Accuracy: 0.6296296296296297\n"
          ]
        }
      ]
    },
    {
      "cell_type": "code",
      "source": [
        "#{'dream':0, 'energetic':1, 'happy':2, 'sad':3}\n",
        "corr = confusion_matrix(y_test, y_pred)"
      ],
      "metadata": {
        "id": "_JqP8wyrG1Qn"
      },
      "execution_count": null,
      "outputs": []
    },
    {
      "cell_type": "code",
      "source": [
        "import pandas as pd\n",
        "import seaborn as sb\n",
        "df = pd.DataFrame(corr)"
      ],
      "metadata": {
        "id": "1fIR4WEpG5Zw"
      },
      "execution_count": null,
      "outputs": []
    },
    {
      "cell_type": "code",
      "source": [
        "sb.heatmap(corr, cmap=\"Blues\", annot=True, xticklabels='SEFT', yticklabels='SEFT')"
      ],
      "metadata": {
        "id": "8KF3tcGkG5HA",
        "colab": {
          "base_uri": "https://localhost:8080/",
          "height": 448
        },
        "outputId": "3fea1f71-3c30-474b-ce40-1e78d1e52d04"
      },
      "execution_count": null,
      "outputs": [
        {
          "output_type": "execute_result",
          "data": {
            "text/plain": [
              "<Axes: >"
            ]
          },
          "metadata": {},
          "execution_count": 16
        },
        {
          "output_type": "display_data",
          "data": {
            "text/plain": [
              "<Figure size 640x480 with 2 Axes>"
            ],
            "image/png": "[encoded data removed]"
          },
          "metadata": {}
        }
      ]
    },
    {
      "cell_type": "code",
      "source": [],
      "metadata": {
        "id": "c1J3yPHn0I8X"
      },
      "execution_count": null,
      "outputs": []
    }
  ]
}